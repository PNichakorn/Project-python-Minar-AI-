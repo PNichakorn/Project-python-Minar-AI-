{
  "nbformat": 4,
  "nbformat_minor": 0,
  "metadata": {
    "colab": {
      "provenance": [],
      "collapsed_sections": [],
      "toc_visible": true
    },
    "kernelspec": {
      "name": "python3",
      "display_name": "Python 3"
    },
    "language_info": {
      "name": "python"
    }
  },
  "cells": [
    {
      "cell_type": "markdown",
      "metadata": {
        "id": "TA-1uqVvxmrt"
      },
      "source": [
        "# Student Performance\n",
        "\n",
        "ข้อมูลผลการเรียนของนักเรียนใน 3 วิชา เลข (Math) การอ่าน (Reading) และ การเขียน (Writing) ทุกวิชาคะแนนเต็มร้อย\n",
        "\n",
        "### Data Description\n",
        "\n",
        "| Variable | Definition |\n",
        "| -------- | ---------- |\n",
        "| gender | male, female |\n",
        "| race/ethinicity | race/ethinicity group (A, B, C, D, E) |\n",
        "| parental level of education | Parent's education level <br> (some high school, high school, some college, associate's degree, bachelor's degree, master degree) |\n",
        "| lunch | lunch program in high school (free/reduced, standard) |\n",
        "| test preparation course | Whether the student took a the test preparation course (none, completed) |\n",
        "| math score | exam score for Math subject |\n",
        "| reading score | exam score for reading subject |\n",
        "| writing score | exam score for writing subject |\n",
        "\n",
        "**Variable Note**\n",
        "\n",
        "parental level of education เรียงจากต่ำไปสูงคือ\n",
        "1. some high school\n",
        "2. high school\n",
        "3. some college\n",
        "4. associate's degree\n",
        "5. bachelor's degree\n",
        "6. master degree\n",
        "\n",
        "### Objective:\n",
        "**ให้สร้าง model ทำนายผลคะแนนเฉลี่ย และตอบคำถามต่อไปนี้**\n",
        "\n",
        "- การเรียน test preparation course ส่งผลต่อผลคะแนนวิชาเลขไหม?\n",
        "- การเรียน test preparation course ส่งผลต่อผลคะแนนวิชาการอ่านไหม?\n",
        "- การเรียน test preparation course ส่งผลต่อผลคะแนนวิชาการเขียนไหม?\n",
        "- ปัจจัย 3 ลำดับแรกที่ส่งผลต่อคะแนนเฉลี่ยของนักเรียน?"
      ]
    },
    {
      "cell_type": "markdown",
      "metadata": {
        "id": "Rhs-hSaCamFT"
      },
      "source": [
        "##สมาชิกกลุ่ม\n",
        "- 61050832 นางสาวณิชากร แพงาม\n",
        "- 61050852 นางสาวปณิตา ประกอบแก้ว\n",
        "- 61070363 นายโสภณ วงศ์ใหญ่\n",
        "- 62010362 นายธนภัทร เนาถาวร"
      ]
    },
    {
      "cell_type": "markdown",
      "metadata": {
        "id": "XB_77u2vEvnU"
      },
      "source": [
        "##Import Library"
      ]
    },
    {
      "cell_type": "code",
      "metadata": {
        "id": "XnKXaTNoCfO1"
      },
      "source": [
        "# manage data\n",
        "import pandas as pd\n",
        "import numpy as np\n",
        "\n",
        "# plot\n",
        "import seaborn as sns\n",
        "import matplotlib.pyplot as plt\n",
        "\n",
        "# split data\n",
        "from sklearn.model_selection import train_test_split\n",
        "\n",
        "# model\n",
        "from sklearn.linear_model import LinearRegression\n",
        "from sklearn import metrics\n",
        "from sklearn.feature_selection import SelectKBest, f_regression"
      ],
      "execution_count": null,
      "outputs": []
    },
    {
      "cell_type": "markdown",
      "metadata": {
        "id": "jUpY5NvYFCii"
      },
      "source": [
        "##Import Data"
      ]
    },
    {
      "cell_type": "code",
      "metadata": {
        "colab": {
          "base_uri": "https://localhost:8080/"
        },
        "id": "qgf8WDkva74T",
        "outputId": "a06ffb27-d205-4e39-bb0a-0cf23014de90"
      },
      "source": [
        "!git clone https://github.com/SophonWongyai/AIDL"
      ],
      "execution_count": null,
      "outputs": [
        {
          "output_type": "stream",
          "text": [
            "fatal: destination path 'AIDL' already exists and is not an empty directory.\n"
          ],
          "name": "stdout"
        }
      ]
    },
    {
      "cell_type": "markdown",
      "metadata": {
        "id": "TAqtGHsfFOkW"
      },
      "source": [
        "นำเข้าข้อมูลไฟล์ students_performance.csv"
      ]
    },
    {
      "cell_type": "code",
      "metadata": {
        "id": "XW7cisy8KvbK"
      },
      "source": [
        "data = pd.read_csv('/content/AIDL/Python for ML&DS/Mini Project/students_performance.csv')"
      ],
      "execution_count": null,
      "outputs": []
    },
    {
      "cell_type": "markdown",
      "metadata": {
        "id": "vJNvTH8uPkst"
      },
      "source": [
        "# Data Understanding\n",
        "\n",
        "| Variable | Definition |\n",
        "| -------- | ---------- |\n",
        "| gender | male, female |\n",
        "| race/ethinicity | race/ethinicity group (A, B, C, D, E) |\n",
        "| parental level of education | Parent's education level <br> (some high school, high school, some college, associate's degree, bachelor's degree, master degree) |\n",
        "| lunch | lunch program in high school (free/reduced, standard) |\n",
        "| test preparation course | Whether the student took a the test preparation course (none, completed) |\n",
        "| math score | exam score for Math subject |\n",
        "| reading score | exam score for reading subject |\n",
        "| writing score | exam score for writing subject |"
      ]
    },
    {
      "cell_type": "markdown",
      "metadata": {
        "id": "pyH1VTDy4LvT"
      },
      "source": [
        "อธิบายประเภทของข้อมูล\n",
        "* Nominal\n",
        "      gender, race/ethinicity, lunch, test preparation course\n",
        "* Ordinal\n",
        "      parental level of education\n",
        "* Interval\n",
        "      math score, reading score, writing score\n",
        "* Ratio"
      ]
    },
    {
      "cell_type": "markdown",
      "metadata": {
        "id": "UXhSmX7qPqfy"
      },
      "source": [
        "## Basic Explore Data"
      ]
    },
    {
      "cell_type": "markdown",
      "metadata": {
        "id": "2rdnbeVrFbSb"
      },
      "source": [
        "ใช้ head(), shape, column, descibe(), info() เพื่อดูข้อมูลเบื้องต้น"
      ]
    },
    {
      "cell_type": "code",
      "metadata": {
        "id": "-Js6Ly2pCiIK",
        "colab": {
          "base_uri": "https://localhost:8080/",
          "height": 212
        },
        "outputId": "2edaed07-c336-4b21-8d83-f87134d961ab"
      },
      "source": [
        "data.head()"
      ],
      "execution_count": null,
      "outputs": [
        {
          "output_type": "execute_result",
          "data": {
            "text/html": [
              "<div>\n",
              "<style scoped>\n",
              "    .dataframe tbody tr th:only-of-type {\n",
              "        vertical-align: middle;\n",
              "    }\n",
              "\n",
              "    .dataframe tbody tr th {\n",
              "        vertical-align: top;\n",
              "    }\n",
              "\n",
              "    .dataframe thead th {\n",
              "        text-align: right;\n",
              "    }\n",
              "</style>\n",
              "<table border=\"1\" class=\"dataframe\">\n",
              "  <thead>\n",
              "    <tr style=\"text-align: right;\">\n",
              "      <th></th>\n",
              "      <th>gender</th>\n",
              "      <th>race/ethnicity</th>\n",
              "      <th>parental level of education</th>\n",
              "      <th>lunch</th>\n",
              "      <th>test preparation course</th>\n",
              "      <th>math score</th>\n",
              "      <th>reading score</th>\n",
              "      <th>writing score</th>\n",
              "    </tr>\n",
              "  </thead>\n",
              "  <tbody>\n",
              "    <tr>\n",
              "      <th>0</th>\n",
              "      <td>female</td>\n",
              "      <td>group B</td>\n",
              "      <td>bachelor's degree</td>\n",
              "      <td>standard</td>\n",
              "      <td>none</td>\n",
              "      <td>72</td>\n",
              "      <td>72</td>\n",
              "      <td>74</td>\n",
              "    </tr>\n",
              "    <tr>\n",
              "      <th>1</th>\n",
              "      <td>female</td>\n",
              "      <td>group C</td>\n",
              "      <td>some college</td>\n",
              "      <td>standard</td>\n",
              "      <td>completed</td>\n",
              "      <td>69</td>\n",
              "      <td>90</td>\n",
              "      <td>88</td>\n",
              "    </tr>\n",
              "    <tr>\n",
              "      <th>2</th>\n",
              "      <td>female</td>\n",
              "      <td>group B</td>\n",
              "      <td>master's degree</td>\n",
              "      <td>standard</td>\n",
              "      <td>none</td>\n",
              "      <td>90</td>\n",
              "      <td>95</td>\n",
              "      <td>93</td>\n",
              "    </tr>\n",
              "    <tr>\n",
              "      <th>3</th>\n",
              "      <td>male</td>\n",
              "      <td>group A</td>\n",
              "      <td>associate's degree</td>\n",
              "      <td>free/reduced</td>\n",
              "      <td>none</td>\n",
              "      <td>47</td>\n",
              "      <td>57</td>\n",
              "      <td>44</td>\n",
              "    </tr>\n",
              "    <tr>\n",
              "      <th>4</th>\n",
              "      <td>male</td>\n",
              "      <td>group C</td>\n",
              "      <td>some college</td>\n",
              "      <td>standard</td>\n",
              "      <td>none</td>\n",
              "      <td>76</td>\n",
              "      <td>78</td>\n",
              "      <td>75</td>\n",
              "    </tr>\n",
              "  </tbody>\n",
              "</table>\n",
              "</div>"
            ],
            "text/plain": [
              "   gender race/ethnicity  ... reading score writing score\n",
              "0  female        group B  ...            72            74\n",
              "1  female        group C  ...            90            88\n",
              "2  female        group B  ...            95            93\n",
              "3    male        group A  ...            57            44\n",
              "4    male        group C  ...            78            75\n",
              "\n",
              "[5 rows x 8 columns]"
            ]
          },
          "metadata": {
            "tags": []
          },
          "execution_count": 4
        }
      ]
    },
    {
      "cell_type": "code",
      "metadata": {
        "colab": {
          "base_uri": "https://localhost:8080/",
          "height": 94
        },
        "id": "wUdOyK6XLemX",
        "outputId": "1186155f-217e-46a9-de70-515f369a60eb"
      },
      "source": [
        "data = data.rename(columns={'race/ethnicity':'race/ethinicity'})\n",
        "data.head(1)"
      ],
      "execution_count": null,
      "outputs": [
        {
          "output_type": "execute_result",
          "data": {
            "text/html": [
              "<div>\n",
              "<style scoped>\n",
              "    .dataframe tbody tr th:only-of-type {\n",
              "        vertical-align: middle;\n",
              "    }\n",
              "\n",
              "    .dataframe tbody tr th {\n",
              "        vertical-align: top;\n",
              "    }\n",
              "\n",
              "    .dataframe thead th {\n",
              "        text-align: right;\n",
              "    }\n",
              "</style>\n",
              "<table border=\"1\" class=\"dataframe\">\n",
              "  <thead>\n",
              "    <tr style=\"text-align: right;\">\n",
              "      <th></th>\n",
              "      <th>gender</th>\n",
              "      <th>race/ethinicity</th>\n",
              "      <th>parental level of education</th>\n",
              "      <th>lunch</th>\n",
              "      <th>test preparation course</th>\n",
              "      <th>math score</th>\n",
              "      <th>reading score</th>\n",
              "      <th>writing score</th>\n",
              "    </tr>\n",
              "  </thead>\n",
              "  <tbody>\n",
              "    <tr>\n",
              "      <th>0</th>\n",
              "      <td>female</td>\n",
              "      <td>group B</td>\n",
              "      <td>bachelor's degree</td>\n",
              "      <td>standard</td>\n",
              "      <td>none</td>\n",
              "      <td>72</td>\n",
              "      <td>72</td>\n",
              "      <td>74</td>\n",
              "    </tr>\n",
              "  </tbody>\n",
              "</table>\n",
              "</div>"
            ],
            "text/plain": [
              "   gender race/ethinicity  ... reading score writing score\n",
              "0  female         group B  ...            72            74\n",
              "\n",
              "[1 rows x 8 columns]"
            ]
          },
          "metadata": {
            "tags": []
          },
          "execution_count": 5
        }
      ]
    },
    {
      "cell_type": "code",
      "metadata": {
        "colab": {
          "base_uri": "https://localhost:8080/"
        },
        "id": "oHhHkrf1F8Nm",
        "outputId": "0eea3f0c-a798-42e1-9df2-2ab932339880"
      },
      "source": [
        "data.shape"
      ],
      "execution_count": null,
      "outputs": [
        {
          "output_type": "execute_result",
          "data": {
            "text/plain": [
              "(1000, 8)"
            ]
          },
          "metadata": {
            "tags": []
          },
          "execution_count": 6
        }
      ]
    },
    {
      "cell_type": "code",
      "metadata": {
        "colab": {
          "base_uri": "https://localhost:8080/"
        },
        "id": "McyaPOwqQGHc",
        "outputId": "f3e7b2b4-12c1-46b3-d98e-a8bf62b7f5d3"
      },
      "source": [
        "data.columns"
      ],
      "execution_count": null,
      "outputs": [
        {
          "output_type": "execute_result",
          "data": {
            "text/plain": [
              "Index(['gender', 'race/ethinicity', 'parental level of education', 'lunch',\n",
              "       'test preparation course', 'math score', 'reading score',\n",
              "       'writing score'],\n",
              "      dtype='object')"
            ]
          },
          "metadata": {
            "tags": []
          },
          "execution_count": 7
        }
      ]
    },
    {
      "cell_type": "code",
      "metadata": {
        "colab": {
          "base_uri": "https://localhost:8080/"
        },
        "id": "WMkh2XtPDJXa",
        "outputId": "a7fe8ed0-e634-43bd-d419-88f116dedd52"
      },
      "source": [
        "data.info()"
      ],
      "execution_count": null,
      "outputs": [
        {
          "output_type": "stream",
          "text": [
            "<class 'pandas.core.frame.DataFrame'>\n",
            "RangeIndex: 1000 entries, 0 to 999\n",
            "Data columns (total 8 columns):\n",
            " #   Column                       Non-Null Count  Dtype \n",
            "---  ------                       --------------  ----- \n",
            " 0   gender                       1000 non-null   object\n",
            " 1   race/ethinicity              1000 non-null   object\n",
            " 2   parental level of education  1000 non-null   object\n",
            " 3   lunch                        1000 non-null   object\n",
            " 4   test preparation course      1000 non-null   object\n",
            " 5   math score                   1000 non-null   int64 \n",
            " 6   reading score                1000 non-null   int64 \n",
            " 7   writing score                1000 non-null   int64 \n",
            "dtypes: int64(3), object(5)\n",
            "memory usage: 62.6+ KB\n"
          ],
          "name": "stdout"
        }
      ]
    },
    {
      "cell_type": "code",
      "metadata": {
        "colab": {
          "base_uri": "https://localhost:8080/",
          "height": 284
        },
        "id": "MgB1Hoa9EGrn",
        "outputId": "4d76ab0b-647c-410e-9aad-cc5584b31d30"
      },
      "source": [
        "data.describe()"
      ],
      "execution_count": null,
      "outputs": [
        {
          "output_type": "execute_result",
          "data": {
            "text/html": [
              "<div>\n",
              "<style scoped>\n",
              "    .dataframe tbody tr th:only-of-type {\n",
              "        vertical-align: middle;\n",
              "    }\n",
              "\n",
              "    .dataframe tbody tr th {\n",
              "        vertical-align: top;\n",
              "    }\n",
              "\n",
              "    .dataframe thead th {\n",
              "        text-align: right;\n",
              "    }\n",
              "</style>\n",
              "<table border=\"1\" class=\"dataframe\">\n",
              "  <thead>\n",
              "    <tr style=\"text-align: right;\">\n",
              "      <th></th>\n",
              "      <th>math score</th>\n",
              "      <th>reading score</th>\n",
              "      <th>writing score</th>\n",
              "    </tr>\n",
              "  </thead>\n",
              "  <tbody>\n",
              "    <tr>\n",
              "      <th>count</th>\n",
              "      <td>1000.000000</td>\n",
              "      <td>1000.000000</td>\n",
              "      <td>1000.000000</td>\n",
              "    </tr>\n",
              "    <tr>\n",
              "      <th>mean</th>\n",
              "      <td>66.389000</td>\n",
              "      <td>69.269000</td>\n",
              "      <td>68.154000</td>\n",
              "    </tr>\n",
              "    <tr>\n",
              "      <th>std</th>\n",
              "      <td>16.223714</td>\n",
              "      <td>15.143909</td>\n",
              "      <td>15.469182</td>\n",
              "    </tr>\n",
              "    <tr>\n",
              "      <th>min</th>\n",
              "      <td>0.000000</td>\n",
              "      <td>17.000000</td>\n",
              "      <td>10.000000</td>\n",
              "    </tr>\n",
              "    <tr>\n",
              "      <th>25%</th>\n",
              "      <td>57.000000</td>\n",
              "      <td>59.000000</td>\n",
              "      <td>57.750000</td>\n",
              "    </tr>\n",
              "    <tr>\n",
              "      <th>50%</th>\n",
              "      <td>66.000000</td>\n",
              "      <td>70.000000</td>\n",
              "      <td>69.000000</td>\n",
              "    </tr>\n",
              "    <tr>\n",
              "      <th>75%</th>\n",
              "      <td>77.000000</td>\n",
              "      <td>79.000000</td>\n",
              "      <td>79.000000</td>\n",
              "    </tr>\n",
              "    <tr>\n",
              "      <th>max</th>\n",
              "      <td>229.000000</td>\n",
              "      <td>200.000000</td>\n",
              "      <td>160.000000</td>\n",
              "    </tr>\n",
              "  </tbody>\n",
              "</table>\n",
              "</div>"
            ],
            "text/plain": [
              "        math score  reading score  writing score\n",
              "count  1000.000000    1000.000000    1000.000000\n",
              "mean     66.389000      69.269000      68.154000\n",
              "std      16.223714      15.143909      15.469182\n",
              "min       0.000000      17.000000      10.000000\n",
              "25%      57.000000      59.000000      57.750000\n",
              "50%      66.000000      70.000000      69.000000\n",
              "75%      77.000000      79.000000      79.000000\n",
              "max     229.000000     200.000000     160.000000"
            ]
          },
          "metadata": {
            "tags": []
          },
          "execution_count": 9
        }
      ]
    },
    {
      "cell_type": "markdown",
      "metadata": {
        "id": "8qQ5Gpq2b_kW"
      },
      "source": [
        ">พบว่า มีทั้งหมด 1000 rows 8 columns\n",
        "\n",
        "* เป็น Categorical Data 5 columns ได้แก่ \n",
        "      gender, race/ethnicity, parental level of education, lunch, test preparation course, \n",
        "* เป็น Numerical Data 3 columns ได้แก่ \n",
        "      math score, reading score, writing score"
      ]
    },
    {
      "cell_type": "markdown",
      "metadata": {
        "id": "D_nWExZDPTaC"
      },
      "source": [
        "## Check Value of Categorical Data"
      ]
    },
    {
      "cell_type": "code",
      "metadata": {
        "colab": {
          "base_uri": "https://localhost:8080/"
        },
        "id": "kGpyRf2bHqLs",
        "outputId": "30fe9c7e-820d-4df0-bf7d-e870a020e865"
      },
      "source": [
        "data['gender'].value_counts()"
      ],
      "execution_count": null,
      "outputs": [
        {
          "output_type": "execute_result",
          "data": {
            "text/plain": [
              "female    518\n",
              "male      482\n",
              "Name: gender, dtype: int64"
            ]
          },
          "metadata": {
            "tags": []
          },
          "execution_count": 10
        }
      ]
    },
    {
      "cell_type": "code",
      "metadata": {
        "colab": {
          "base_uri": "https://localhost:8080/"
        },
        "id": "ZKgU2duWHt6q",
        "outputId": "323cf558-3d44-465b-83ad-feaf47428ca6"
      },
      "source": [
        "data['race/ethinicity'].value_counts()"
      ],
      "execution_count": null,
      "outputs": [
        {
          "output_type": "execute_result",
          "data": {
            "text/plain": [
              "group C    319\n",
              "group D    262\n",
              "group B    190\n",
              "group E    140\n",
              "group A     89\n",
              "Name: race/ethinicity, dtype: int64"
            ]
          },
          "metadata": {
            "tags": []
          },
          "execution_count": 11
        }
      ]
    },
    {
      "cell_type": "code",
      "metadata": {
        "id": "f2-vzN4bHrXj",
        "colab": {
          "base_uri": "https://localhost:8080/"
        },
        "outputId": "bd1d8e79-c8eb-4d28-8dc0-36a40df65167"
      },
      "source": [
        "data['parental level of education'].value_counts()"
      ],
      "execution_count": null,
      "outputs": [
        {
          "output_type": "execute_result",
          "data": {
            "text/plain": [
              "some college          226\n",
              "associate's degree    222\n",
              "high school           196\n",
              "some high school      179\n",
              "bachelor's degree     118\n",
              "master's degree        59\n",
              "Name: parental level of education, dtype: int64"
            ]
          },
          "metadata": {
            "tags": []
          },
          "execution_count": 12
        }
      ]
    },
    {
      "cell_type": "code",
      "metadata": {
        "id": "7FpoJt_mH2mN",
        "colab": {
          "base_uri": "https://localhost:8080/"
        },
        "outputId": "6ac1bdca-6c25-4753-fdc1-1fde6dfba6da"
      },
      "source": [
        "data['lunch'].value_counts()"
      ],
      "execution_count": null,
      "outputs": [
        {
          "output_type": "execute_result",
          "data": {
            "text/plain": [
              "standard        645\n",
              "free/reduced    355\n",
              "Name: lunch, dtype: int64"
            ]
          },
          "metadata": {
            "tags": []
          },
          "execution_count": 13
        }
      ]
    },
    {
      "cell_type": "code",
      "metadata": {
        "id": "Dfu_WsmiH6O7",
        "colab": {
          "base_uri": "https://localhost:8080/"
        },
        "outputId": "2e048b67-826e-4d47-d6bc-633cee7586e7"
      },
      "source": [
        "data['test preparation course'].value_counts()"
      ],
      "execution_count": null,
      "outputs": [
        {
          "output_type": "execute_result",
          "data": {
            "text/plain": [
              "none         642\n",
              "completed    358\n",
              "Name: test preparation course, dtype: int64"
            ]
          },
          "metadata": {
            "tags": []
          },
          "execution_count": 14
        }
      ]
    },
    {
      "cell_type": "code",
      "metadata": {
        "id": "F2fUsNYbQpVE",
        "colab": {
          "base_uri": "https://localhost:8080/",
          "height": 420
        },
        "outputId": "38e992b8-a6e0-4362-f355-067daddb6be8"
      },
      "source": [
        "# plot categorical data\n",
        "plt.figure(figsize=(25,11))\n",
        "plt.subplot(231) \n",
        "data['gender'].value_counts(normalize=False).plot.bar(title= 'Gender',rot=2) \n",
        "plt.subplot(232) \n",
        "data['parental level of education'].value_counts(normalize=False).plot.bar(title= 'Parental level of education',rot=2) \n",
        "plt.subplot(233) \n",
        "data['race/ethinicity'].value_counts(normalize=False).plot.bar(title= 'Race/Ethnicity',rot=2)\n",
        "plt.subplot(234) \n",
        "data['lunch'].value_counts(normalize=False).plot.bar(title= 'Lunch',rot=2)\n",
        "plt.subplot(235) \n",
        "data['test preparation course'].value_counts(normalize=False).plot.bar(title= 'Test preparation course',rot=2)"
      ],
      "execution_count": null,
      "outputs": [
        {
          "output_type": "execute_result",
          "data": {
            "text/plain": [
              "<matplotlib.axes._subplots.AxesSubplot at 0x7f7b60027c10>"
            ]
          },
          "metadata": {
            "tags": []
          },
          "execution_count": 15
        },
        {
          "output_type": "display_data",
          "data": {
            "image/png": "[encoded data removed]",
            "text/plain": [
              "<Figure size 1800x792 with 5 Axes>"
            ]
          },
          "metadata": {
            "tags": [],
            "needs_background": "light"
          }
        }
      ]
    },
    {
      "cell_type": "markdown",
      "metadata": {
        "id": "CIpZTmfI5nyi"
      },
      "source": [
        "##Check Value of Numerical Data"
      ]
    },
    {
      "cell_type": "code",
      "metadata": {
        "id": "ctp1ejgytRjX",
        "colab": {
          "base_uri": "https://localhost:8080/",
          "height": 284
        },
        "outputId": "a0670934-6e4e-4266-dd74-cc89d548f807"
      },
      "source": [
        "data.describe()"
      ],
      "execution_count": null,
      "outputs": [
        {
          "output_type": "execute_result",
          "data": {
            "text/html": [
              "<div>\n",
              "<style scoped>\n",
              "    .dataframe tbody tr th:only-of-type {\n",
              "        vertical-align: middle;\n",
              "    }\n",
              "\n",
              "    .dataframe tbody tr th {\n",
              "        vertical-align: top;\n",
              "    }\n",
              "\n",
              "    .dataframe thead th {\n",
              "        text-align: right;\n",
              "    }\n",
              "</style>\n",
              "<table border=\"1\" class=\"dataframe\">\n",
              "  <thead>\n",
              "    <tr style=\"text-align: right;\">\n",
              "      <th></th>\n",
              "      <th>math score</th>\n",
              "      <th>reading score</th>\n",
              "      <th>writing score</th>\n",
              "    </tr>\n",
              "  </thead>\n",
              "  <tbody>\n",
              "    <tr>\n",
              "      <th>count</th>\n",
              "      <td>1000.000000</td>\n",
              "      <td>1000.000000</td>\n",
              "      <td>1000.000000</td>\n",
              "    </tr>\n",
              "    <tr>\n",
              "      <th>mean</th>\n",
              "      <td>66.389000</td>\n",
              "      <td>69.269000</td>\n",
              "      <td>68.154000</td>\n",
              "    </tr>\n",
              "    <tr>\n",
              "      <th>std</th>\n",
              "      <td>16.223714</td>\n",
              "      <td>15.143909</td>\n",
              "      <td>15.469182</td>\n",
              "    </tr>\n",
              "    <tr>\n",
              "      <th>min</th>\n",
              "      <td>0.000000</td>\n",
              "      <td>17.000000</td>\n",
              "      <td>10.000000</td>\n",
              "    </tr>\n",
              "    <tr>\n",
              "      <th>25%</th>\n",
              "      <td>57.000000</td>\n",
              "      <td>59.000000</td>\n",
              "      <td>57.750000</td>\n",
              "    </tr>\n",
              "    <tr>\n",
              "      <th>50%</th>\n",
              "      <td>66.000000</td>\n",
              "      <td>70.000000</td>\n",
              "      <td>69.000000</td>\n",
              "    </tr>\n",
              "    <tr>\n",
              "      <th>75%</th>\n",
              "      <td>77.000000</td>\n",
              "      <td>79.000000</td>\n",
              "      <td>79.000000</td>\n",
              "    </tr>\n",
              "    <tr>\n",
              "      <th>max</th>\n",
              "      <td>229.000000</td>\n",
              "      <td>200.000000</td>\n",
              "      <td>160.000000</td>\n",
              "    </tr>\n",
              "  </tbody>\n",
              "</table>\n",
              "</div>"
            ],
            "text/plain": [
              "        math score  reading score  writing score\n",
              "count  1000.000000    1000.000000    1000.000000\n",
              "mean     66.389000      69.269000      68.154000\n",
              "std      16.223714      15.143909      15.469182\n",
              "min       0.000000      17.000000      10.000000\n",
              "25%      57.000000      59.000000      57.750000\n",
              "50%      66.000000      70.000000      69.000000\n",
              "75%      77.000000      79.000000      79.000000\n",
              "max     229.000000     200.000000     160.000000"
            ]
          },
          "metadata": {
            "tags": []
          },
          "execution_count": 16
        }
      ]
    },
    {
      "cell_type": "code",
      "metadata": {
        "id": "TOClUbu4fCNf",
        "colab": {
          "base_uri": "https://localhost:8080/",
          "height": 290
        },
        "outputId": "829c869a-08f0-45b3-d642-ec7715c8f444"
      },
      "source": [
        "# plot numerical data\n",
        "plt.figure(figsize=(18,5))\n",
        "plt.subplot(131) \n",
        "sns.histplot(data['math score'])\n",
        "plt.subplot(132) \n",
        "sns.histplot(data['reading score'])\n",
        "plt.subplot(133) \n",
        "sns.histplot(data['writing score'])"
      ],
      "execution_count": null,
      "outputs": [
        {
          "output_type": "execute_result",
          "data": {
            "text/plain": [
              "<matplotlib.axes._subplots.AxesSubplot at 0x7f7b5f6d0190>"
            ]
          },
          "metadata": {
            "tags": []
          },
          "execution_count": 17
        },
        {
          "output_type": "display_data",
          "data": {
            "image/png": "[encoded data removed]",
            "text/plain": [
              "<Figure size 1296x360 with 3 Axes>"
            ]
          },
          "metadata": {
            "tags": [],
            "needs_background": "light"
          }
        }
      ]
    },
    {
      "cell_type": "markdown",
      "metadata": {
        "id": "qY63u0xhYcsm"
      },
      "source": [
        "##Verify Data Quality\n",
        ">ตรวจสอบคุณภาพ หรือ ความสมบูรณ์ ของข้อมูล"
      ]
    },
    {
      "cell_type": "markdown",
      "metadata": {
        "id": "wvseQZFjZVXf"
      },
      "source": [
        "### Missing Data"
      ]
    },
    {
      "cell_type": "code",
      "metadata": {
        "id": "sVXGZG3xDbcZ",
        "colab": {
          "base_uri": "https://localhost:8080/"
        },
        "outputId": "30078d5a-a7a1-4769-c6c9-4d019745fe8a"
      },
      "source": [
        "data.isnull().sum()"
      ],
      "execution_count": null,
      "outputs": [
        {
          "output_type": "execute_result",
          "data": {
            "text/plain": [
              "gender                         0\n",
              "race/ethinicity                0\n",
              "parental level of education    0\n",
              "lunch                          0\n",
              "test preparation course        0\n",
              "math score                     0\n",
              "reading score                  0\n",
              "writing score                  0\n",
              "dtype: int64"
            ]
          },
          "metadata": {
            "tags": []
          },
          "execution_count": 18
        }
      ]
    },
    {
      "cell_type": "markdown",
      "metadata": {
        "id": "8FOCXfUoOLeb"
      },
      "source": [
        ">ไม่พบค่า null"
      ]
    },
    {
      "cell_type": "markdown",
      "metadata": {
        "id": "0k1KdzAhIWTO"
      },
      "source": [
        "“gender”, “parental level of education”, “race/ethnicity”, “lunch”, “test preparation course” are categorical variables."
      ]
    },
    {
      "cell_type": "markdown",
      "metadata": {
        "id": "QK3Ru2q5IaoD"
      },
      "source": [
        "“math score”, “read score”, “write score” contain numerical values and hence are numerical variables."
      ]
    },
    {
      "cell_type": "markdown",
      "metadata": {
        "id": "1T5tQE8qXHJo"
      },
      "source": [
        "### Outliers"
      ]
    },
    {
      "cell_type": "markdown",
      "metadata": {
        "id": "YbWX2JQvtmLq"
      },
      "source": [
        "![iqr](https://miro.medium.com/max/9000/1*2c21SkzJMf3frPXPAR_gZA.png)"
      ]
    },
    {
      "cell_type": "code",
      "metadata": {
        "colab": {
          "base_uri": "https://localhost:8080/",
          "height": 609
        },
        "id": "TGhdp1y0W5Do",
        "outputId": "19ceb06d-f8fe-4edb-b440-2e6cabc66773"
      },
      "source": [
        "#Check Outliers with Boxplot \n",
        "data.boxplot(vert=False, figsize=(10,10))"
      ],
      "execution_count": null,
      "outputs": [
        {
          "output_type": "execute_result",
          "data": {
            "text/plain": [
              "<matplotlib.axes._subplots.AxesSubplot at 0x7f7b5f4e96d0>"
            ]
          },
          "metadata": {
            "tags": []
          },
          "execution_count": 19
        },
        {
          "output_type": "display_data",
          "data": {
            "image/png": "[encoded data removed]",
            "text/plain": [
              "<Figure size 720x720 with 1 Axes>"
            ]
          },
          "metadata": {
            "tags": [],
            "needs_background": "light"
          }
        }
      ]
    },
    {
      "cell_type": "markdown",
      "metadata": {
        "id": "itoJMGrjkeYS"
      },
      "source": [
        "จาก Boxplot เกิด outlier ขึ้น\n",
        "ทำให้เห็นว่าคะแนนเต็มแต่ละวิชาควรได้คะแนนมากที่สุด 100"
      ]
    },
    {
      "cell_type": "markdown",
      "metadata": {
        "id": "jRMeSiiMPcyQ"
      },
      "source": [
        "# Data Preparetion"
      ]
    },
    {
      "cell_type": "markdown",
      "metadata": {
        "id": "5NK67OjQs9ul"
      },
      "source": [
        "## Clean Data"
      ]
    },
    {
      "cell_type": "code",
      "metadata": {
        "colab": {
          "base_uri": "https://localhost:8080/"
        },
        "id": "8yMbkvFTi0vf",
        "outputId": "04d4ac25-5824-4659-a8ad-9f27e61ce3e3"
      },
      "source": [
        "data.shape"
      ],
      "execution_count": null,
      "outputs": [
        {
          "output_type": "execute_result",
          "data": {
            "text/plain": [
              "(1000, 8)"
            ]
          },
          "metadata": {
            "tags": []
          },
          "execution_count": 20
        }
      ]
    },
    {
      "cell_type": "markdown",
      "metadata": {
        "id": "VBOopmG9tAhL"
      },
      "source": [
        "### Clean Outliers"
      ]
    },
    {
      "cell_type": "markdown",
      "metadata": {
        "id": "w0dvCHF2kQQd"
      },
      "source": [
        "Clean Outliers at Interquartile Range > 100 score\n",
        "\n"
      ]
    },
    {
      "cell_type": "code",
      "metadata": {
        "colab": {
          "base_uri": "https://localhost:8080/"
        },
        "id": "NgQ4-nxVgdNA",
        "outputId": "f77c933c-d7a7-4007-8516-b2e30172dd3d"
      },
      "source": [
        "# math score > 100\n",
        "print(\"math score > 100 : \",len(data[data[\"math score\"]>100]))\n",
        "# reading score > 100\n",
        "print(\"reading score > 100 : \",len(data[data[\"reading score\"]>100]))\n",
        "# writing score > 100\n",
        "print(\"writing score > 100 : \",len(data[data[\"writing score\"]>100]))"
      ],
      "execution_count": null,
      "outputs": [
        {
          "output_type": "stream",
          "text": [
            "math score > 100 :  2\n",
            "reading score > 100 :  1\n",
            "writing score > 100 :  1\n"
          ],
          "name": "stdout"
        }
      ]
    },
    {
      "cell_type": "markdown",
      "metadata": {
        "id": "V0HIzPyjmkuI"
      },
      "source": [
        "###Drop data"
      ]
    },
    {
      "cell_type": "code",
      "metadata": {
        "id": "ST3PBNC9l5lF"
      },
      "source": [
        "# drop case > 100\n",
        "data[data[\"math score\"] > 100].index\n",
        "data.drop(data[data[\"math score\"] > 100].index, inplace=True)\n",
        "\n",
        "data[data[\"reading score\"] > 100].index\n",
        "data.drop(data[data[\"reading score\"] > 100].index, inplace=True)\n",
        "\n",
        "data[data[\"writing score\"] > 100].index\n",
        "data.drop(data[data[\"writing score\"] > 100].index, inplace=True)"
      ],
      "execution_count": null,
      "outputs": []
    },
    {
      "cell_type": "code",
      "metadata": {
        "colab": {
          "base_uri": "https://localhost:8080/"
        },
        "id": "IPED3zNviZou",
        "outputId": "28bffc59-b096-47be-c637-b3c8acb281b2"
      },
      "source": [
        "data.shape"
      ],
      "execution_count": null,
      "outputs": [
        {
          "output_type": "execute_result",
          "data": {
            "text/plain": [
              "(996, 8)"
            ]
          },
          "metadata": {
            "tags": []
          },
          "execution_count": 23
        }
      ]
    },
    {
      "cell_type": "markdown",
      "metadata": {
        "id": "S01Dwi1rU1kQ"
      },
      "source": [
        "## Average Score"
      ]
    },
    {
      "cell_type": "code",
      "metadata": {
        "colab": {
          "base_uri": "https://localhost:8080/",
          "height": 195
        },
        "id": "mo8cCu4wJEpL",
        "outputId": "94f9bc80-cd01-4613-9841-9f74c8ad786d"
      },
      "source": [
        "# Average Score\n",
        "data['avg_score'] = (data['math score'] + data['reading score'] + data['writing score']) / 3\n",
        "data[['avg_score']].head()"
      ],
      "execution_count": null,
      "outputs": [
        {
          "output_type": "execute_result",
          "data": {
            "text/html": [
              "<div>\n",
              "<style scoped>\n",
              "    .dataframe tbody tr th:only-of-type {\n",
              "        vertical-align: middle;\n",
              "    }\n",
              "\n",
              "    .dataframe tbody tr th {\n",
              "        vertical-align: top;\n",
              "    }\n",
              "\n",
              "    .dataframe thead th {\n",
              "        text-align: right;\n",
              "    }\n",
              "</style>\n",
              "<table border=\"1\" class=\"dataframe\">\n",
              "  <thead>\n",
              "    <tr style=\"text-align: right;\">\n",
              "      <th></th>\n",
              "      <th>avg_score</th>\n",
              "    </tr>\n",
              "  </thead>\n",
              "  <tbody>\n",
              "    <tr>\n",
              "      <th>0</th>\n",
              "      <td>72.666667</td>\n",
              "    </tr>\n",
              "    <tr>\n",
              "      <th>1</th>\n",
              "      <td>82.333333</td>\n",
              "    </tr>\n",
              "    <tr>\n",
              "      <th>2</th>\n",
              "      <td>92.666667</td>\n",
              "    </tr>\n",
              "    <tr>\n",
              "      <th>3</th>\n",
              "      <td>49.333333</td>\n",
              "    </tr>\n",
              "    <tr>\n",
              "      <th>4</th>\n",
              "      <td>76.333333</td>\n",
              "    </tr>\n",
              "  </tbody>\n",
              "</table>\n",
              "</div>"
            ],
            "text/plain": [
              "   avg_score\n",
              "0  72.666667\n",
              "1  82.333333\n",
              "2  92.666667\n",
              "3  49.333333\n",
              "4  76.333333"
            ]
          },
          "metadata": {
            "tags": []
          },
          "execution_count": 24
        }
      ]
    },
    {
      "cell_type": "code",
      "metadata": {
        "id": "xIIcbMtlFijd"
      },
      "source": [],
      "execution_count": null,
      "outputs": []
    },
    {
      "cell_type": "code",
      "metadata": {
        "colab": {
          "base_uri": "https://localhost:8080/",
          "height": 746
        },
        "id": "vzJNOvO8Rto5",
        "outputId": "d3e74830-64fa-4ffc-d58f-188fffa07006"
      },
      "source": [
        "data[data.dtypes[(data.dtypes==\"float64\")|(data.dtypes==\"int64\")].index.values].hist(figsize=[11,11])"
      ],
      "execution_count": null,
      "outputs": [
        {
          "output_type": "execute_result",
          "data": {
            "text/plain": [
              "array([[<matplotlib.axes._subplots.AxesSubplot object at 0x7f7b5f437610>,\n",
              "        <matplotlib.axes._subplots.AxesSubplot object at 0x7f7b5f45c550>],\n",
              "       [<matplotlib.axes._subplots.AxesSubplot object at 0x7f7b5f40dbd0>,\n",
              "        <matplotlib.axes._subplots.AxesSubplot object at 0x7f7b5f3d1290>]],\n",
              "      dtype=object)"
            ]
          },
          "metadata": {
            "tags": []
          },
          "execution_count": 25
        },
        {
          "output_type": "display_data",
          "data": {
            "image/png": "[encoded data removed]",
            "text/plain": [
              "<Figure size 792x792 with 4 Axes>"
            ]
          },
          "metadata": {
            "tags": [],
            "needs_background": "light"
          }
        }
      ]
    },
    {
      "cell_type": "markdown",
      "metadata": {
        "id": "5ySCIB7_KB8p"
      },
      "source": [
        "##Distribution plot of the scores\n",
        "Seaborn Distplot  tes"
      ]
    },
    {
      "cell_type": "markdown",
      "metadata": {
        "id": "lgmA07bNPcAn"
      },
      "source": [
        "###Math Score"
      ]
    },
    {
      "cell_type": "code",
      "metadata": {
        "colab": {
          "base_uri": "https://localhost:8080/",
          "height": 519
        },
        "id": "KG2Fh69zODZ2",
        "outputId": "e4707c7e-4fde-4a69-f100-f259db01d516"
      },
      "source": [
        "plt.rcParams['figure.figsize'] = (20, 10)\n",
        "sns.countplot(data['math score'], palette = 'Set1')\n",
        "plt.title('Math Score',fontsize = 20)\n",
        "plt.show()"
      ],
      "execution_count": null,
      "outputs": [
        {
          "output_type": "stream",
          "text": [
            "/usr/local/lib/python3.7/dist-packages/seaborn/_decorators.py:43: FutureWarning: Pass the following variable as a keyword arg: x. From version 0.12, the only valid positional argument will be `data`, and passing other arguments without an explicit keyword will result in an error or misinterpretation.\n",
            "  FutureWarning\n"
          ],
          "name": "stderr"
        },
        {
          "output_type": "display_data",
          "data": {
            "image/png": "[encoded data removed]",
            "text/plain": [
              "<Figure size 1440x720 with 1 Axes>"
            ]
          },
          "metadata": {
            "tags": [],
            "needs_background": "light"
          }
        }
      ]
    },
    {
      "cell_type": "code",
      "metadata": {
        "colab": {
          "base_uri": "https://localhost:8080/",
          "height": 516
        },
        "id": "16QD76gmKOkZ",
        "outputId": "c57e9164-4fac-4241-808c-0aa15213d896"
      },
      "source": [
        "sns.distplot(data['math score'])"
      ],
      "execution_count": null,
      "outputs": [
        {
          "output_type": "stream",
          "text": [
            "/usr/local/lib/python3.7/dist-packages/seaborn/distributions.py:2557: FutureWarning: `distplot` is a deprecated function and will be removed in a future version. Please adapt your code to use either `displot` (a figure-level function with similar flexibility) or `histplot` (an axes-level function for histograms).\n",
            "  warnings.warn(msg, FutureWarning)\n"
          ],
          "name": "stderr"
        },
        {
          "output_type": "execute_result",
          "data": {
            "text/plain": [
              "<matplotlib.axes._subplots.AxesSubplot at 0x7f7b5efce850>"
            ]
          },
          "metadata": {
            "tags": []
          },
          "execution_count": 27
        },
        {
          "output_type": "display_data",
          "data": {
            "image/png": "[encoded data removed]",
            "text/plain": [
              "<Figure size 1440x720 with 1 Axes>"
            ]
          },
          "metadata": {
            "tags": [],
            "needs_background": "light"
          }
        }
      ]
    },
    {
      "cell_type": "markdown",
      "metadata": {
        "id": "J-8aiOXHPoqp"
      },
      "source": [
        "###Reading Score"
      ]
    },
    {
      "cell_type": "code",
      "metadata": {
        "id": "G3TxV8HHOn03",
        "colab": {
          "base_uri": "https://localhost:8080/",
          "height": 519
        },
        "outputId": "57538722-62e0-48e8-c065-00587840cc8e"
      },
      "source": [
        "plt.rcParams['figure.figsize'] = (20, 10)\n",
        "sns.countplot(data['reading score'], palette = 'Set2')\n",
        "plt.title('Reading score',fontsize = 20)\n",
        "plt.show()"
      ],
      "execution_count": null,
      "outputs": [
        {
          "output_type": "stream",
          "text": [
            "/usr/local/lib/python3.7/dist-packages/seaborn/_decorators.py:43: FutureWarning: Pass the following variable as a keyword arg: x. From version 0.12, the only valid positional argument will be `data`, and passing other arguments without an explicit keyword will result in an error or misinterpretation.\n",
            "  FutureWarning\n"
          ],
          "name": "stderr"
        },
        {
          "output_type": "display_data",
          "data": {
            "image/png": "[encoded data removed]",
            "text/plain": [
              "<Figure size 1440x720 with 1 Axes>"
            ]
          },
          "metadata": {
            "tags": [],
            "needs_background": "light"
          }
        }
      ]
    },
    {
      "cell_type": "code",
      "metadata": {
        "id": "DcerWFGALg9t",
        "colab": {
          "base_uri": "https://localhost:8080/",
          "height": 516
        },
        "outputId": "3c4893e8-fec1-47c4-b936-f5532be2479f"
      },
      "source": [
        "sns.distplot(data['reading score'])"
      ],
      "execution_count": null,
      "outputs": [
        {
          "output_type": "stream",
          "text": [
            "/usr/local/lib/python3.7/dist-packages/seaborn/distributions.py:2557: FutureWarning: `distplot` is a deprecated function and will be removed in a future version. Please adapt your code to use either `displot` (a figure-level function with similar flexibility) or `histplot` (an axes-level function for histograms).\n",
            "  warnings.warn(msg, FutureWarning)\n"
          ],
          "name": "stderr"
        },
        {
          "output_type": "execute_result",
          "data": {
            "text/plain": [
              "<matplotlib.axes._subplots.AxesSubplot at 0x7f7b5f0ccb50>"
            ]
          },
          "metadata": {
            "tags": []
          },
          "execution_count": 29
        },
        {
          "output_type": "display_data",
          "data": {
            "image/png": "[encoded data removed]",
            "text/plain": [
              "<Figure size 1440x720 with 1 Axes>"
            ]
          },
          "metadata": {
            "tags": [],
            "needs_background": "light"
          }
        }
      ]
    },
    {
      "cell_type": "markdown",
      "metadata": {
        "id": "47eAamUcPvVH"
      },
      "source": [
        "###Writing Score"
      ]
    },
    {
      "cell_type": "code",
      "metadata": {
        "id": "_q1YO3tWO-tc",
        "colab": {
          "base_uri": "https://localhost:8080/",
          "height": 519
        },
        "outputId": "571a4b57-4ff2-49ab-c01d-0521b90fadbb"
      },
      "source": [
        "plt.rcParams['figure.figsize'] = (20, 10)\n",
        "sns.countplot(data['writing score'], palette = 'Set3')\n",
        "plt.title('Writing score',fontsize = 20)\n",
        "plt.show()"
      ],
      "execution_count": null,
      "outputs": [
        {
          "output_type": "stream",
          "text": [
            "/usr/local/lib/python3.7/dist-packages/seaborn/_decorators.py:43: FutureWarning: Pass the following variable as a keyword arg: x. From version 0.12, the only valid positional argument will be `data`, and passing other arguments without an explicit keyword will result in an error or misinterpretation.\n",
            "  FutureWarning\n"
          ],
          "name": "stderr"
        },
        {
          "output_type": "display_data",
          "data": {
            "image/png": "[encoded data removed]",
            "text/plain": [
              "<Figure size 1440x720 with 1 Axes>"
            ]
          },
          "metadata": {
            "tags": [],
            "needs_background": "light"
          }
        }
      ]
    },
    {
      "cell_type": "code",
      "metadata": {
        "id": "8XIF89W8LmSS",
        "colab": {
          "base_uri": "https://localhost:8080/",
          "height": 514
        },
        "outputId": "c64eead7-1c65-4e7c-f472-45df71899c3e"
      },
      "source": [
        "sns.distplot(data['writing score'])"
      ],
      "execution_count": null,
      "outputs": [
        {
          "output_type": "stream",
          "text": [
            "/usr/local/lib/python3.7/dist-packages/seaborn/distributions.py:2557: FutureWarning: `distplot` is a deprecated function and will be removed in a future version. Please adapt your code to use either `displot` (a figure-level function with similar flexibility) or `histplot` (an axes-level function for histograms).\n",
            "  warnings.warn(msg, FutureWarning)\n"
          ],
          "name": "stderr"
        },
        {
          "output_type": "execute_result",
          "data": {
            "text/plain": [
              "<matplotlib.axes._subplots.AxesSubplot at 0x7f7b5edf0ad0>"
            ]
          },
          "metadata": {
            "tags": []
          },
          "execution_count": 31
        },
        {
          "output_type": "display_data",
          "data": {
            "image/png": "[encoded data removed]",
            "text/plain": [
              "<Figure size 1440x720 with 1 Axes>"
            ]
          },
          "metadata": {
            "tags": [],
            "needs_background": "light"
          }
        }
      ]
    },
    {
      "cell_type": "markdown",
      "metadata": {
        "id": "6eeoj8JzLhZt"
      },
      "source": [
        "## Transform Categorical Data\n",
        "\n",
        "| Variable | Definition |\n",
        "| -------- | ---------- |\n",
        "| gender | male, female |\n",
        "| race/ethinicity | race/ethinicity group (A, B, C, D, E) |\n",
        "| parental level of education | Parent's education level <br> (some high school, high school, some college, associate's degree, bachelor's degree, master degree) |\n",
        "| lunch | lunch program in high school (free/reduced, standard) |\n",
        "| test preparation course | Whether the student took a the test preparation course (none, completed) |\n",
        "| math score | exam score for Math subject |\n",
        "| reading score | exam score for reading subject |\n",
        "| writing score | exam score for writing subject |"
      ]
    },
    {
      "cell_type": "code",
      "metadata": {
        "id": "VxcaWaHwFuVR",
        "colab": {
          "base_uri": "https://localhost:8080/"
        },
        "outputId": "0af27589-fce6-47c2-ce41-a92defcf2588"
      },
      "source": [
        "data.dtypes"
      ],
      "execution_count": null,
      "outputs": [
        {
          "output_type": "execute_result",
          "data": {
            "text/plain": [
              "gender                          object\n",
              "race/ethinicity                 object\n",
              "parental level of education     object\n",
              "lunch                           object\n",
              "test preparation course         object\n",
              "math score                       int64\n",
              "reading score                    int64\n",
              "writing score                    int64\n",
              "avg_score                      float64\n",
              "dtype: object"
            ]
          },
          "metadata": {
            "tags": []
          },
          "execution_count": 32
        }
      ]
    },
    {
      "cell_type": "markdown",
      "metadata": {
        "id": "I5XYTGQNJ6Hu"
      },
      "source": [
        "###One hot"
      ]
    },
    {
      "cell_type": "code",
      "metadata": {
        "id": "flhFBXgXJ5Sj"
      },
      "source": [
        "# # one-hot-encode categorical columns\n",
        "# def one_hot_encode(_dataframe, list_of_columns_to_one_hot_encode):\n",
        "#     for column in list_of_columns_to_one_hot_encode:\n",
        "#         # one-hot-encode this column\n",
        "#         one_hot_encoded_values = pd.get_dummies(_dataframe[column], prefix=column)\n",
        "\n",
        "#         # join the one-hot-encoded values with original dataframe\n",
        "#         _dataframe = pd.concat([_dataframe, one_hot_encoded_values], axis=1)\n",
        "\n",
        "#         # drop the original column, we don't need it anymore\n",
        "#         _dataframe.drop([column], axis=1, inplace=True)\n",
        "    \n",
        "#     return _dataframe\n",
        "\n",
        "# # get a list of all columns with categorical values\n",
        "# categorical_columns = data.select_dtypes(exclude=['int', 'float']).columns\n",
        "\n",
        "# data = one_hot_encode(data, categorical_columns)\n",
        "# data.head()"
      ],
      "execution_count": null,
      "outputs": []
    },
    {
      "cell_type": "code",
      "metadata": {
        "id": "qVYefpoNMwbd"
      },
      "source": [
        "data['gender'] = data['gender'].map({'female':0,\n",
        "                                     'male':1})\n",
        "data['race/ethinicity'] = data['race/ethinicity'].map({'group B': 0 ,\n",
        "                                                     'group C' : 1 , \n",
        "                                                     'group A' : 2 , \n",
        "                                                     'group D' : 3 , \n",
        "                                                     'group E' : 4})\n",
        "data['parental level of education'] = data['parental level of education'].map({'some high school': 0,\n",
        "                                                                              'high school':1,\n",
        "                                                                              'some college':2,\n",
        "                                                                              \"associate's degree\":3,\n",
        "                                                                              \"bachelor's degree\":4,\n",
        "                                                                              \"master's degree\":5})\n",
        "data['lunch'] = data['lunch'].map({'standard':0,\n",
        "                                   'free/reduced':1})\n",
        "data['test preparation course'] = data['test preparation course'].map({'none':0,\n",
        "                                                                       'completed':1})"
      ],
      "execution_count": null,
      "outputs": []
    },
    {
      "cell_type": "code",
      "metadata": {
        "colab": {
          "base_uri": "https://localhost:8080/",
          "height": 229
        },
        "id": "_-3dSSe3R-h6",
        "outputId": "87fb638a-a12a-4402-a826-6a13dacc9631"
      },
      "source": [
        "data.head()"
      ],
      "execution_count": null,
      "outputs": [
        {
          "output_type": "execute_result",
          "data": {
            "text/html": [
              "<div>\n",
              "<style scoped>\n",
              "    .dataframe tbody tr th:only-of-type {\n",
              "        vertical-align: middle;\n",
              "    }\n",
              "\n",
              "    .dataframe tbody tr th {\n",
              "        vertical-align: top;\n",
              "    }\n",
              "\n",
              "    .dataframe thead th {\n",
              "        text-align: right;\n",
              "    }\n",
              "</style>\n",
              "<table border=\"1\" class=\"dataframe\">\n",
              "  <thead>\n",
              "    <tr style=\"text-align: right;\">\n",
              "      <th></th>\n",
              "      <th>gender</th>\n",
              "      <th>race/ethinicity</th>\n",
              "      <th>parental level of education</th>\n",
              "      <th>lunch</th>\n",
              "      <th>test preparation course</th>\n",
              "      <th>math score</th>\n",
              "      <th>reading score</th>\n",
              "      <th>writing score</th>\n",
              "      <th>avg_score</th>\n",
              "    </tr>\n",
              "  </thead>\n",
              "  <tbody>\n",
              "    <tr>\n",
              "      <th>0</th>\n",
              "      <td>0</td>\n",
              "      <td>0</td>\n",
              "      <td>4</td>\n",
              "      <td>0</td>\n",
              "      <td>0</td>\n",
              "      <td>72</td>\n",
              "      <td>72</td>\n",
              "      <td>74</td>\n",
              "      <td>72.666667</td>\n",
              "    </tr>\n",
              "    <tr>\n",
              "      <th>1</th>\n",
              "      <td>0</td>\n",
              "      <td>1</td>\n",
              "      <td>2</td>\n",
              "      <td>0</td>\n",
              "      <td>1</td>\n",
              "      <td>69</td>\n",
              "      <td>90</td>\n",
              "      <td>88</td>\n",
              "      <td>82.333333</td>\n",
              "    </tr>\n",
              "    <tr>\n",
              "      <th>2</th>\n",
              "      <td>0</td>\n",
              "      <td>0</td>\n",
              "      <td>5</td>\n",
              "      <td>0</td>\n",
              "      <td>0</td>\n",
              "      <td>90</td>\n",
              "      <td>95</td>\n",
              "      <td>93</td>\n",
              "      <td>92.666667</td>\n",
              "    </tr>\n",
              "    <tr>\n",
              "      <th>3</th>\n",
              "      <td>1</td>\n",
              "      <td>2</td>\n",
              "      <td>3</td>\n",
              "      <td>1</td>\n",
              "      <td>0</td>\n",
              "      <td>47</td>\n",
              "      <td>57</td>\n",
              "      <td>44</td>\n",
              "      <td>49.333333</td>\n",
              "    </tr>\n",
              "    <tr>\n",
              "      <th>4</th>\n",
              "      <td>1</td>\n",
              "      <td>1</td>\n",
              "      <td>2</td>\n",
              "      <td>0</td>\n",
              "      <td>0</td>\n",
              "      <td>76</td>\n",
              "      <td>78</td>\n",
              "      <td>75</td>\n",
              "      <td>76.333333</td>\n",
              "    </tr>\n",
              "  </tbody>\n",
              "</table>\n",
              "</div>"
            ],
            "text/plain": [
              "   gender  race/ethinicity  ...  writing score  avg_score\n",
              "0       0                0  ...             74  72.666667\n",
              "1       0                1  ...             88  82.333333\n",
              "2       0                0  ...             93  92.666667\n",
              "3       1                2  ...             44  49.333333\n",
              "4       1                1  ...             75  76.333333\n",
              "\n",
              "[5 rows x 9 columns]"
            ]
          },
          "metadata": {
            "tags": []
          },
          "execution_count": 168
        }
      ]
    },
    {
      "cell_type": "markdown",
      "metadata": {
        "id": "hUIWDtOxxl1T"
      },
      "source": [
        "## Pair Plot"
      ]
    },
    {
      "cell_type": "code",
      "metadata": {
        "colab": {
          "base_uri": "https://localhost:8080/"
        },
        "id": "G1ngMpXEwR7U",
        "outputId": "1f04895a-5487-40d2-c12d-2733bc902e23"
      },
      "source": [
        "data.columns"
      ],
      "execution_count": null,
      "outputs": [
        {
          "output_type": "execute_result",
          "data": {
            "text/plain": [
              "Index(['gender', 'race/ethinicity', 'parental level of education', 'lunch',\n",
              "       'test preparation course', 'math score', 'reading score',\n",
              "       'writing score', 'avg_score'],\n",
              "      dtype='object')"
            ]
          },
          "metadata": {
            "tags": []
          },
          "execution_count": 35
        }
      ]
    },
    {
      "cell_type": "code",
      "metadata": {
        "id": "BHh2vIKgLqD6",
        "colab": {
          "base_uri": "https://localhost:8080/",
          "height": 743
        },
        "outputId": "676a1126-dc3d-4cce-f01d-631dcc582850"
      },
      "source": [
        "sns.pairplot(data[['math score', 'reading score', 'writing score', 'avg_score']])"
      ],
      "execution_count": null,
      "outputs": [
        {
          "output_type": "execute_result",
          "data": {
            "text/plain": [
              "<seaborn.axisgrid.PairGrid at 0x7f7b5ec07590>"
            ]
          },
          "metadata": {
            "tags": []
          },
          "execution_count": 36
        },
        {
          "output_type": "display_data",
          "data": {
            "image/png": "[encoded data removed]",
            "text/plain": [
              "<Figure size 720x720 with 20 Axes>"
            ]
          },
          "metadata": {
            "tags": [],
            "needs_background": "light"
          }
        }
      ]
    },
    {
      "cell_type": "markdown",
      "metadata": {
        "id": "jHiaAP5TduvM"
      },
      "source": [
        "##Correlation\n",
        "> อาจลบอันบนออก"
      ]
    },
    {
      "cell_type": "code",
      "metadata": {
        "id": "RK4DLiwrTjbO",
        "colab": {
          "base_uri": "https://localhost:8080/",
          "height": 798
        },
        "outputId": "f3ff984d-c802-4dbe-b340-b4405f7d9dc1"
      },
      "source": [
        "corr = data.corr(method='spearman')\n",
        "mask = np.zeros_like(corr, dtype=np.bool)\n",
        "mask[np.triu_indices_from(mask)] = True\n",
        "\n",
        "f, ax = plt.subplots(figsize=(18, 15))\n",
        "\n",
        "sns.heatmap(corr, annot = True, mask=mask, cmap=\"RdBu_r\", center=0,\n",
        "            square=True, linewidths=.5)"
      ],
      "execution_count": null,
      "outputs": [
        {
          "output_type": "execute_result",
          "data": {
            "text/plain": [
              "<matplotlib.axes._subplots.AxesSubplot at 0x7f7b5ecf01d0>"
            ]
          },
          "metadata": {
            "tags": []
          },
          "execution_count": 37
        },
        {
          "output_type": "display_data",
          "data": {
            "image/png": "[encoded data removed]",
            "text/plain": [
              "<Figure size 1296x1080 with 2 Axes>"
            ]
          },
          "metadata": {
            "tags": [],
            "needs_background": "light"
          }
        }
      ]
    },
    {
      "cell_type": "code",
      "metadata": {
        "id": "u3oGGrM4iHf7",
        "colab": {
          "base_uri": "https://localhost:8080/",
          "height": 531
        },
        "outputId": "b53b3a3a-b63c-4124-a68e-d5014880680e"
      },
      "source": [
        "corrMatrix = data.corr()\n",
        "highCorr = corrMatrix[corrMatrix >= .8]\n",
        "sns.heatmap(highCorr, annot=True, cmap=\"Reds\")\n",
        "plt.show()"
      ],
      "execution_count": null,
      "outputs": [
        {
          "output_type": "display_data",
          "data": {
            "image/png": "[encoded data removed]",
            "text/plain": [
              "<Figure size 1440x720 with 2 Axes>"
            ]
          },
          "metadata": {
            "tags": [],
            "needs_background": "light"
          }
        }
      ]
    },
    {
      "cell_type": "code",
      "metadata": {
        "id": "Dz4ZjrP9gdZm",
        "colab": {
          "base_uri": "https://localhost:8080/",
          "height": 418
        },
        "outputId": "67d8b0ac-5150-4f6d-f07f-b0f4eacaa997"
      },
      "source": [
        "data.corr()"
      ],
      "execution_count": null,
      "outputs": [
        {
          "output_type": "execute_result",
          "data": {
            "text/html": [
              "<div>\n",
              "<style scoped>\n",
              "    .dataframe tbody tr th:only-of-type {\n",
              "        vertical-align: middle;\n",
              "    }\n",
              "\n",
              "    .dataframe tbody tr th {\n",
              "        vertical-align: top;\n",
              "    }\n",
              "\n",
              "    .dataframe thead th {\n",
              "        text-align: right;\n",
              "    }\n",
              "</style>\n",
              "<table border=\"1\" class=\"dataframe\">\n",
              "  <thead>\n",
              "    <tr style=\"text-align: right;\">\n",
              "      <th></th>\n",
              "      <th>gender</th>\n",
              "      <th>race/ethinicity</th>\n",
              "      <th>parental level of education</th>\n",
              "      <th>lunch</th>\n",
              "      <th>test preparation course</th>\n",
              "      <th>math score</th>\n",
              "      <th>reading score</th>\n",
              "      <th>writing score</th>\n",
              "      <th>avg_score</th>\n",
              "    </tr>\n",
              "  </thead>\n",
              "  <tbody>\n",
              "    <tr>\n",
              "      <th>gender</th>\n",
              "      <td>1.000000</td>\n",
              "      <td>0.058346</td>\n",
              "      <td>-0.046937</td>\n",
              "      <td>-0.018796</td>\n",
              "      <td>0.010736</td>\n",
              "      <td>0.167464</td>\n",
              "      <td>-0.245576</td>\n",
              "      <td>-0.301618</td>\n",
              "      <td>-0.131749</td>\n",
              "    </tr>\n",
              "    <tr>\n",
              "      <th>race/ethinicity</th>\n",
              "      <td>0.058346</td>\n",
              "      <td>1.000000</td>\n",
              "      <td>0.059395</td>\n",
              "      <td>-0.030100</td>\n",
              "      <td>0.007148</td>\n",
              "      <td>0.193820</td>\n",
              "      <td>0.100376</td>\n",
              "      <td>0.119100</td>\n",
              "      <td>0.145300</td>\n",
              "    </tr>\n",
              "    <tr>\n",
              "      <th>parental level of education</th>\n",
              "      <td>-0.046937</td>\n",
              "      <td>0.059395</td>\n",
              "      <td>1.000000</td>\n",
              "      <td>0.023858</td>\n",
              "      <td>-0.003712</td>\n",
              "      <td>0.159689</td>\n",
              "      <td>0.192545</td>\n",
              "      <td>0.238663</td>\n",
              "      <td>0.207187</td>\n",
              "    </tr>\n",
              "    <tr>\n",
              "      <th>lunch</th>\n",
              "      <td>-0.018796</td>\n",
              "      <td>-0.030100</td>\n",
              "      <td>0.023858</td>\n",
              "      <td>1.000000</td>\n",
              "      <td>0.013944</td>\n",
              "      <td>-0.347714</td>\n",
              "      <td>-0.226855</td>\n",
              "      <td>-0.244429</td>\n",
              "      <td>-0.287577</td>\n",
              "    </tr>\n",
              "    <tr>\n",
              "      <th>test preparation course</th>\n",
              "      <td>0.010736</td>\n",
              "      <td>0.007148</td>\n",
              "      <td>-0.003712</td>\n",
              "      <td>0.013944</td>\n",
              "      <td>1.000000</td>\n",
              "      <td>0.181127</td>\n",
              "      <td>0.243333</td>\n",
              "      <td>0.313639</td>\n",
              "      <td>0.258784</td>\n",
              "    </tr>\n",
              "    <tr>\n",
              "      <th>math score</th>\n",
              "      <td>0.167464</td>\n",
              "      <td>0.193820</td>\n",
              "      <td>0.159689</td>\n",
              "      <td>-0.347714</td>\n",
              "      <td>0.181127</td>\n",
              "      <td>1.000000</td>\n",
              "      <td>0.816401</td>\n",
              "      <td>0.802256</td>\n",
              "      <td>0.918339</td>\n",
              "    </tr>\n",
              "    <tr>\n",
              "      <th>reading score</th>\n",
              "      <td>-0.245576</td>\n",
              "      <td>0.100376</td>\n",
              "      <td>0.192545</td>\n",
              "      <td>-0.226855</td>\n",
              "      <td>0.243333</td>\n",
              "      <td>0.816401</td>\n",
              "      <td>1.000000</td>\n",
              "      <td>0.954495</td>\n",
              "      <td>0.970092</td>\n",
              "    </tr>\n",
              "    <tr>\n",
              "      <th>writing score</th>\n",
              "      <td>-0.301618</td>\n",
              "      <td>0.119100</td>\n",
              "      <td>0.238663</td>\n",
              "      <td>-0.244429</td>\n",
              "      <td>0.313639</td>\n",
              "      <td>0.802256</td>\n",
              "      <td>0.954495</td>\n",
              "      <td>1.000000</td>\n",
              "      <td>0.965729</td>\n",
              "    </tr>\n",
              "    <tr>\n",
              "      <th>avg_score</th>\n",
              "      <td>-0.131749</td>\n",
              "      <td>0.145300</td>\n",
              "      <td>0.207187</td>\n",
              "      <td>-0.287577</td>\n",
              "      <td>0.258784</td>\n",
              "      <td>0.918339</td>\n",
              "      <td>0.970092</td>\n",
              "      <td>0.965729</td>\n",
              "      <td>1.000000</td>\n",
              "    </tr>\n",
              "  </tbody>\n",
              "</table>\n",
              "</div>"
            ],
            "text/plain": [
              "                               gender  ...  avg_score\n",
              "gender                       1.000000  ...  -0.131749\n",
              "race/ethinicity              0.058346  ...   0.145300\n",
              "parental level of education -0.046937  ...   0.207187\n",
              "lunch                       -0.018796  ...  -0.287577\n",
              "test preparation course      0.010736  ...   0.258784\n",
              "math score                   0.167464  ...   0.918339\n",
              "reading score               -0.245576  ...   0.970092\n",
              "writing score               -0.301618  ...   0.965729\n",
              "avg_score                   -0.131749  ...   1.000000\n",
              "\n",
              "[9 rows x 9 columns]"
            ]
          },
          "metadata": {
            "tags": []
          },
          "execution_count": 39
        }
      ]
    },
    {
      "cell_type": "markdown",
      "metadata": {
        "id": "H3mhKvNrx_XP"
      },
      "source": [
        "#Model (Multiple Regression)\n"
      ]
    },
    {
      "cell_type": "markdown",
      "metadata": {
        "id": "boGjBNArQlm9"
      },
      "source": [
        "## Fix X"
      ]
    },
    {
      "cell_type": "code",
      "metadata": {
        "id": "csv4hajlQCAB"
      },
      "source": [
        "features = ['gender','race/ethinicity','parental level of education','lunch',\n",
        "     'test preparation course']\n",
        "#,'math score','reading score','writing score'\n",
        "X = data[list(features)]\n"
      ],
      "execution_count": null,
      "outputs": []
    },
    {
      "cell_type": "markdown",
      "metadata": {
        "id": "BeQOYBPqIEuP"
      },
      "source": [
        "## Feature Selection Function"
      ]
    },
    {
      "cell_type": "code",
      "metadata": {
        "id": "aCUGXxcKIBho"
      },
      "source": [
        "# feature selection function\n",
        "def select_features(X_train, y_train, X_test):\n",
        "\t# configure to select all features\n",
        "\tfs = SelectKBest(score_func=f_regression, k='all')\n",
        "\t# learn relationship from training data\n",
        "\tfs.fit(X_train, y_train)\n",
        "\t# transform train input data\n",
        "\tX_train_fs = fs.transform(X_train)\n",
        "\t# transform test input data\n",
        "\tX_test_fs = fs.transform(X_test)\n",
        "\treturn X_train_fs, X_test_fs, fs"
      ],
      "execution_count": null,
      "outputs": []
    },
    {
      "cell_type": "markdown",
      "metadata": {
        "id": "j6POhZ87Hc0R"
      },
      "source": [
        "## Math Score"
      ]
    },
    {
      "cell_type": "markdown",
      "metadata": {
        "id": "AI7zXyJvRJpF"
      },
      "source": [
        "### Fix y at math score"
      ]
    },
    {
      "cell_type": "code",
      "metadata": {
        "id": "I9xfw1AKRFm5"
      },
      "source": [
        "features_math = ['gender','race/ethinicity','parental level of education','lunch',\n",
        "     'test preparation course', 'reading score','writing score']\n",
        "\n",
        "X = data[list(features_math)]\n",
        "\n",
        "y = data['math score']"
      ],
      "execution_count": null,
      "outputs": []
    },
    {
      "cell_type": "markdown",
      "metadata": {
        "id": "1_hljdUNHc0X"
      },
      "source": [
        "### Train and Test Data"
      ]
    },
    {
      "cell_type": "code",
      "metadata": {
        "colab": {
          "base_uri": "https://localhost:8080/",
          "height": 110
        },
        "id": "8jbvzU3M74Y2",
        "outputId": "5d6071af-157a-4267-f56b-f67302576a66"
      },
      "source": [
        "data.head(1)"
      ],
      "execution_count": null,
      "outputs": [
        {
          "output_type": "execute_result",
          "data": {
            "text/html": [
              "<div>\n",
              "<style scoped>\n",
              "    .dataframe tbody tr th:only-of-type {\n",
              "        vertical-align: middle;\n",
              "    }\n",
              "\n",
              "    .dataframe tbody tr th {\n",
              "        vertical-align: top;\n",
              "    }\n",
              "\n",
              "    .dataframe thead th {\n",
              "        text-align: right;\n",
              "    }\n",
              "</style>\n",
              "<table border=\"1\" class=\"dataframe\">\n",
              "  <thead>\n",
              "    <tr style=\"text-align: right;\">\n",
              "      <th></th>\n",
              "      <th>gender</th>\n",
              "      <th>race/ethinicity</th>\n",
              "      <th>parental level of education</th>\n",
              "      <th>lunch</th>\n",
              "      <th>test preparation course</th>\n",
              "      <th>math score</th>\n",
              "      <th>reading score</th>\n",
              "      <th>writing score</th>\n",
              "      <th>avg_score</th>\n",
              "    </tr>\n",
              "  </thead>\n",
              "  <tbody>\n",
              "    <tr>\n",
              "      <th>0</th>\n",
              "      <td>0</td>\n",
              "      <td>0</td>\n",
              "      <td>4</td>\n",
              "      <td>0</td>\n",
              "      <td>0</td>\n",
              "      <td>72</td>\n",
              "      <td>72</td>\n",
              "      <td>74</td>\n",
              "      <td>72.666667</td>\n",
              "    </tr>\n",
              "  </tbody>\n",
              "</table>\n",
              "</div>"
            ],
            "text/plain": [
              "   gender  race/ethinicity  ...  writing score  avg_score\n",
              "0       0                0  ...             74  72.666667\n",
              "\n",
              "[1 rows x 9 columns]"
            ]
          },
          "metadata": {
            "tags": []
          },
          "execution_count": 187
        }
      ]
    },
    {
      "cell_type": "code",
      "metadata": {
        "id": "lDRWU1KgHc0Y"
      },
      "source": [
        "X_train, X_test, y_train, y_test = train_test_split(X, y, test_size=0.3, random_state=101)"
      ],
      "execution_count": null,
      "outputs": []
    },
    {
      "cell_type": "markdown",
      "metadata": {
        "id": "LODUflumHc0Y"
      },
      "source": [
        "###Training Model"
      ]
    },
    {
      "cell_type": "code",
      "metadata": {
        "id": "KeOJwXgTHc0Z",
        "colab": {
          "base_uri": "https://localhost:8080/"
        },
        "outputId": "55bbe3af-fdc8-4bfc-ac24-6a1b0cf03dd6"
      },
      "source": [
        "model = LinearRegression()\n",
        "model.fit(X_train, y_train)"
      ],
      "execution_count": null,
      "outputs": [
        {
          "output_type": "execute_result",
          "data": {
            "text/plain": [
              "LinearRegression(copy_X=True, fit_intercept=True, n_jobs=None, normalize=False)"
            ]
          },
          "metadata": {
            "tags": []
          },
          "execution_count": 152
        }
      ]
    },
    {
      "cell_type": "markdown",
      "metadata": {
        "id": "xlBBH5N5Hc0c"
      },
      "source": [
        "Check coefficients"
      ]
    },
    {
      "cell_type": "code",
      "metadata": {
        "colab": {
          "base_uri": "https://localhost:8080/"
        },
        "id": "3CDB5_7WHc0c",
        "outputId": "f59af518-9d2a-4a35-fedc-60a65cf2f267"
      },
      "source": [
        "model.coef_"
      ],
      "execution_count": null,
      "outputs": [
        {
          "output_type": "execute_result",
          "data": {
            "text/plain": [
              "array([13.39050009,  0.5792306 , -0.27316802, -3.36982076, -3.1744831 ,\n",
              "        0.31249969,  0.64955118])"
            ]
          },
          "metadata": {
            "tags": []
          },
          "execution_count": 153
        }
      ]
    },
    {
      "cell_type": "code",
      "metadata": {
        "colab": {
          "base_uri": "https://localhost:8080/",
          "height": 254
        },
        "id": "uoX3mk6NHc0d",
        "outputId": "a8105a93-99db-4c93-b29c-0697b94e7621"
      },
      "source": [
        "pd.DataFrame(model.coef_, index=X.columns, columns=['Coeff'])"
      ],
      "execution_count": null,
      "outputs": [
        {
          "output_type": "execute_result",
          "data": {
            "text/html": [
              "<div>\n",
              "<style scoped>\n",
              "    .dataframe tbody tr th:only-of-type {\n",
              "        vertical-align: middle;\n",
              "    }\n",
              "\n",
              "    .dataframe tbody tr th {\n",
              "        vertical-align: top;\n",
              "    }\n",
              "\n",
              "    .dataframe thead th {\n",
              "        text-align: right;\n",
              "    }\n",
              "</style>\n",
              "<table border=\"1\" class=\"dataframe\">\n",
              "  <thead>\n",
              "    <tr style=\"text-align: right;\">\n",
              "      <th></th>\n",
              "      <th>Coeff</th>\n",
              "    </tr>\n",
              "  </thead>\n",
              "  <tbody>\n",
              "    <tr>\n",
              "      <th>gender</th>\n",
              "      <td>13.390500</td>\n",
              "    </tr>\n",
              "    <tr>\n",
              "      <th>race/ethinicity</th>\n",
              "      <td>0.579231</td>\n",
              "    </tr>\n",
              "    <tr>\n",
              "      <th>parental level of education</th>\n",
              "      <td>-0.273168</td>\n",
              "    </tr>\n",
              "    <tr>\n",
              "      <th>lunch</th>\n",
              "      <td>-3.369821</td>\n",
              "    </tr>\n",
              "    <tr>\n",
              "      <th>test preparation course</th>\n",
              "      <td>-3.174483</td>\n",
              "    </tr>\n",
              "    <tr>\n",
              "      <th>reading score</th>\n",
              "      <td>0.312500</td>\n",
              "    </tr>\n",
              "    <tr>\n",
              "      <th>writing score</th>\n",
              "      <td>0.649551</td>\n",
              "    </tr>\n",
              "  </tbody>\n",
              "</table>\n",
              "</div>"
            ],
            "text/plain": [
              "                                 Coeff\n",
              "gender                       13.390500\n",
              "race/ethinicity               0.579231\n",
              "parental level of education  -0.273168\n",
              "lunch                        -3.369821\n",
              "test preparation course      -3.174483\n",
              "reading score                 0.312500\n",
              "writing score                 0.649551"
            ]
          },
          "metadata": {
            "tags": []
          },
          "execution_count": 154
        }
      ]
    },
    {
      "cell_type": "markdown",
      "metadata": {
        "id": "AqrNYqw1Hc0e"
      },
      "source": [
        "###Predicting Test Data"
      ]
    },
    {
      "cell_type": "code",
      "metadata": {
        "colab": {
          "base_uri": "https://localhost:8080/"
        },
        "id": "Bmrk7pXSHc0f",
        "outputId": "956bcf3a-fbde-45b6-d656-215b08da0b84"
      },
      "source": [
        "y_pred = model.predict(X_test)\n",
        "y_pred"
      ],
      "execution_count": null,
      "outputs": [
        {
          "output_type": "execute_result",
          "data": {
            "text/plain": [
              "array([51.34967458, 65.52538421, 62.53820992, 84.9862222 , 43.96818927,\n",
              "       68.80137913, 64.34402884, 68.16844475, 78.29763494, 85.33016215,\n",
              "       79.42016802, 68.88602821, 74.34628506, 74.41826328, 55.8141023 ,\n",
              "       68.78805356, 92.73823854, 54.67441661, 58.07261071, 57.16464627,\n",
              "       92.62065128, 74.38147814, 83.91934771, 81.10685054, 30.02558097,\n",
              "       98.7036192 , 68.7787432 , 76.51735503, 81.68480614, 49.32070975,\n",
              "       75.91395526, 69.96645672, 57.01354313, 68.31311079, 68.2016216 ,\n",
              "       58.80632428, 54.55311599, 59.67517996, 73.94975761, 72.980887  ,\n",
              "       69.2037684 , 89.95317254, 68.17342756, 44.8380915 , 78.89073107,\n",
              "       71.05943008, 68.50549624, 46.13189814, 68.81247176, 72.51242632,\n",
              "       92.70724963, 82.08202363, 71.13372226, 84.51186439, 44.01487098,\n",
              "       33.44997484, 45.9275528 , 55.9747448 , 74.33379349, 68.96802639,\n",
              "       47.35772771, 51.68435884, 89.37248764, 51.54921641, 67.54639758,\n",
              "       70.2544046 , 72.82335698, 61.46197536, 81.63820337, 69.70601286,\n",
              "       66.43477783, 62.12470814, 59.59007951, 51.06544317, 68.92535988,\n",
              "       73.07211715, 65.60456379, 73.27127634, 50.51539067, 80.12421337,\n",
              "       74.98933042, 53.94060819, 53.75684307, 79.6677479 , 80.35645146,\n",
              "       58.3729461 , 71.03345931, 49.28757651, 46.92702967, 66.58063025,\n",
              "       67.85449077, 81.57897542, 68.00513233, 49.25537197, 74.6089461 ,\n",
              "       68.17783406, 83.16495298, 69.42056271, 73.79306057, 93.1409812 ,\n",
              "       75.49877073, 55.15931063, 55.70452899, 34.48901184, 53.57020468,\n",
              "       81.49590457, 71.14633823, 64.70160727, 90.02539877, 54.76452909,\n",
              "       87.0508109 , 71.79644894, 73.56291247, 71.44535261, 44.8781132 ,\n",
              "       82.74839495, 72.90048708, 66.40126195, 89.64293191, 83.22465841,\n",
              "       35.74022621, 54.37168887, 79.30718093, 46.84503149, 92.34748326,\n",
              "       51.84693624, 44.70958952, 68.36340079, 73.13964287, 75.57461548,\n",
              "       68.74273615, 64.41198219, 86.0269364 , 55.29684952, 63.53778063,\n",
              "       92.46005848, 68.15366489, 78.6893087 , 44.87447096, 59.81877332,\n",
              "       54.8017322 , 65.48605254, 55.50490822, 74.1209261 , 88.35029589,\n",
              "       72.67937488, 64.45142204, 78.78843025, 65.53477351, 70.42087257,\n",
              "       74.5117167 , 59.14240817, 79.23068148, 68.56302156, 56.93140511,\n",
              "       65.82386829, 92.34748326, 76.84501722, 53.78724701, 73.22275871,\n",
              "       73.60756357, 54.56939376, 71.97230861, 61.1638729 , 49.74217165,\n",
              "       68.6461374 , 72.34125783, 70.58115246, 81.36858898, 76.7377322 ,\n",
              "       52.412122  , 64.12383097, 62.64643299, 70.21840777, 67.60117404,\n",
              "       53.19587723, 65.06723544, 75.04911479, 62.45056263, 55.8713796 ,\n",
              "       75.07488222, 43.85385606, 63.22217868, 66.57948886, 59.81080907,\n",
              "       86.45680044, 61.4430964 , 68.91999545, 43.26007406, 27.88483499,\n",
              "       69.75048707, 46.27678846, 69.25597427, 48.28121117, 59.47156826,\n",
              "       61.11543421, 61.15052223, 84.56889889, 71.97192597, 69.06205558,\n",
              "       62.96794035, 52.07583338, 59.6668372 , 82.47522693, 43.21755151,\n",
              "       64.49944987, 72.51871336, 84.42993493, 81.49923941, 43.3550965 ,\n",
              "       53.52718165, 85.58023266, 79.17979662, 90.53884024, 77.17560237,\n",
              "       48.78724792, 82.10006961, 58.3673522 , 64.76503939, 49.7753485 ,\n",
              "       79.01068695, 77.09197578, 86.27555261, 53.87519148, 34.11430588,\n",
              "       48.16033268, 73.70865016, 25.54904331, 79.50481711, 56.43643175,\n",
              "       65.65078393, 68.06985901, 69.54430479, 63.38986938, 75.58977798,\n",
              "       39.72604749, 78.0968965 , 51.74824232, 53.37987494, 68.22708773,\n",
              "       71.02093851, 51.23313387, 67.27653517, 39.51711636, 72.57822567,\n",
              "       76.45051935, 65.70777894, 80.57672356, 49.63940786, 69.67130748,\n",
              "       68.07855517, 69.11092661, 43.96865085, 51.27396345, 79.26802856,\n",
              "       89.96339584, 54.92008372, 56.81833908, 62.52732031, 76.66557468,\n",
              "       76.84621382, 72.07035198, 62.87678443, 91.23689984, 70.45255151,\n",
              "       83.04097223, 71.45883791, 60.7105036 , 72.8318437 , 55.1221669 ,\n",
              "       76.88894905, 48.81034543, 62.25404412, 72.7617618 , 71.94153848,\n",
              "       78.33574076, 74.95068878, 50.88488537, 45.41482125, 73.05044883,\n",
              "       58.56528657, 64.5378686 , 59.12807966, 68.6680444 , 77.80227894,\n",
              "       87.70224262, 50.16264638, 69.35842515, 75.69344448, 65.53592041,\n",
              "       60.40217885, 80.2005197 , 54.74247813, 34.92737283, 82.61322328,\n",
              "       68.78207804, 59.96236357, 74.96522997, 62.27536926])"
            ]
          },
          "metadata": {
            "tags": []
          },
          "execution_count": 155
        }
      ]
    },
    {
      "cell_type": "markdown",
      "metadata": {
        "id": "8Sc-ldmHHc0f"
      },
      "source": [
        "วาด scatterplot เพื่อเปรียบเทียบ y_test และ y_pred"
      ]
    },
    {
      "cell_type": "code",
      "metadata": {
        "colab": {
          "base_uri": "https://localhost:8080/",
          "height": 463
        },
        "id": "4qMdxL80Hc0g",
        "outputId": "face8e0c-9fae-4d81-cbc2-85fc438180db"
      },
      "source": [
        "sns.scatterplot(x=y_test, y=y_pred)\n",
        "plt.xlabel('Y Test')\n",
        "plt.ylabel('Y Predicted')\n",
        "sns.lineplot(x=y_test, y=y_test, color='red')"
      ],
      "execution_count": null,
      "outputs": [
        {
          "output_type": "execute_result",
          "data": {
            "text/plain": [
              "<matplotlib.axes._subplots.AxesSubplot at 0x7f7b53cc4a50>"
            ]
          },
          "metadata": {
            "tags": []
          },
          "execution_count": 156
        },
        {
          "output_type": "display_data",
          "data": {
            "image/png": "[encoded data removed]",
            "text/plain": [
              "<Figure size 1440x720 with 1 Axes>"
            ]
          },
          "metadata": {
            "tags": [],
            "needs_background": "light"
          }
        }
      ]
    },
    {
      "cell_type": "markdown",
      "metadata": {
        "id": "sS1qJSs8Hc0h"
      },
      "source": [
        "###Evaluating Model \n",
        "- Mean Absolute Error\n",
        "- Mean Squared Error\n",
        "- Root Mean Squared Error"
      ]
    },
    {
      "cell_type": "code",
      "metadata": {
        "colab": {
          "base_uri": "https://localhost:8080/"
        },
        "id": "mJ7JzmL0Hc0h",
        "outputId": "f2eeaac8-dc3b-4d1c-ac9f-f2cd68f823d1"
      },
      "source": [
        "mae = metrics.mean_absolute_error(y_test, y_pred)\n",
        "mse = metrics.mean_squared_error(y_test, y_pred)\n",
        "rmse = np.sqrt(mse)\n",
        "\n",
        "print(f'Mean Absolute Error: {mae}')\n",
        "print(f'Mean Square Error: {mse}')\n",
        "print(f'Root Mean Square Error : {rmse}')"
      ],
      "execution_count": null,
      "outputs": [
        {
          "output_type": "stream",
          "text": [
            "Mean Absolute Error: 4.39256185147196\n",
            "Mean Square Error: 29.643841768041575\n",
            "Root Mean Square Error : 5.4446158512829514\n"
          ],
          "name": "stdout"
        }
      ]
    },
    {
      "cell_type": "code",
      "metadata": {
        "colab": {
          "base_uri": "https://localhost:8080/"
        },
        "id": "OMOXruGkHc0i",
        "outputId": "93f88e95-957a-4e74-f60c-ae6c9d653d28"
      },
      "source": [
        "y.describe()"
      ],
      "execution_count": null,
      "outputs": [
        {
          "output_type": "execute_result",
          "data": {
            "text/plain": [
              "count    996.000000\n",
              "mean      66.104418\n",
              "std       15.122121\n",
              "min        0.000000\n",
              "25%       57.000000\n",
              "50%       66.000000\n",
              "75%       77.000000\n",
              "max      100.000000\n",
              "Name: math score, dtype: float64"
            ]
          },
          "metadata": {
            "tags": []
          },
          "execution_count": 158
        }
      ]
    },
    {
      "cell_type": "code",
      "metadata": {
        "colab": {
          "base_uri": "https://localhost:8080/"
        },
        "id": "TrUKXg1UHc0j",
        "outputId": "d13ba083-0ba0-4f23-9b61-f6e222cee56d"
      },
      "source": [
        "print('Accuracy:',metrics.r2_score(y_test, y_pred)) "
      ],
      "execution_count": null,
      "outputs": [
        {
          "output_type": "stream",
          "text": [
            "Accuracy: 0.8603988631955547\n"
          ],
          "name": "stdout"
        }
      ]
    },
    {
      "cell_type": "markdown",
      "metadata": {
        "id": "yZYRSKxUHc0j"
      },
      "source": [
        "###Residuals"
      ]
    },
    {
      "cell_type": "code",
      "metadata": {
        "colab": {
          "base_uri": "https://localhost:8080/"
        },
        "id": "i-4UeQV8Hc0k",
        "outputId": "6bbd4021-589d-40bc-9db0-27abede4ef13"
      },
      "source": [
        "res = y_test - y_pred\n",
        "res.describe()"
      ],
      "execution_count": null,
      "outputs": [
        {
          "output_type": "execute_result",
          "data": {
            "text/plain": [
              "count    299.000000\n",
              "mean      -0.411224\n",
              "std        5.438166\n",
              "min      -14.569394\n",
              "25%       -3.728237\n",
              "50%       -0.449975\n",
              "75%        3.198444\n",
              "max       14.019113\n",
              "Name: math score, dtype: float64"
            ]
          },
          "metadata": {
            "tags": []
          },
          "execution_count": 160
        }
      ]
    },
    {
      "cell_type": "code",
      "metadata": {
        "colab": {
          "base_uri": "https://localhost:8080/",
          "height": 516
        },
        "id": "Ckm_z0NlHc0l",
        "outputId": "37e62611-c2e2-4082-eacd-580f9b2100af"
      },
      "source": [
        "sns.distplot(res)"
      ],
      "execution_count": null,
      "outputs": [
        {
          "output_type": "stream",
          "text": [
            "/usr/local/lib/python3.7/dist-packages/seaborn/distributions.py:2557: FutureWarning: `distplot` is a deprecated function and will be removed in a future version. Please adapt your code to use either `displot` (a figure-level function with similar flexibility) or `histplot` (an axes-level function for histograms).\n",
            "  warnings.warn(msg, FutureWarning)\n"
          ],
          "name": "stderr"
        },
        {
          "output_type": "execute_result",
          "data": {
            "text/plain": [
              "<matplotlib.axes._subplots.AxesSubplot at 0x7f7b53cafad0>"
            ]
          },
          "metadata": {
            "tags": []
          },
          "execution_count": 162
        },
        {
          "output_type": "display_data",
          "data": {
            "image/png": "[encoded data removed]",
            "text/plain": [
              "<Figure size 1440x720 with 1 Axes>"
            ]
          },
          "metadata": {
            "tags": [],
            "needs_background": "light"
          }
        }
      ]
    },
    {
      "cell_type": "markdown",
      "metadata": {
        "id": "K00lXEQ7Hc0l"
      },
      "source": [
        "### Correlation Feature Selection"
      ]
    },
    {
      "cell_type": "code",
      "metadata": {
        "colab": {
          "base_uri": "https://localhost:8080/",
          "height": 229
        },
        "id": "bzIn0O9EHc0l",
        "outputId": "906d2698-1321-400f-a094-57652982c97c"
      },
      "source": [
        "data.head()"
      ],
      "execution_count": null,
      "outputs": [
        {
          "output_type": "execute_result",
          "data": {
            "text/html": [
              "<div>\n",
              "<style scoped>\n",
              "    .dataframe tbody tr th:only-of-type {\n",
              "        vertical-align: middle;\n",
              "    }\n",
              "\n",
              "    .dataframe tbody tr th {\n",
              "        vertical-align: top;\n",
              "    }\n",
              "\n",
              "    .dataframe thead th {\n",
              "        text-align: right;\n",
              "    }\n",
              "</style>\n",
              "<table border=\"1\" class=\"dataframe\">\n",
              "  <thead>\n",
              "    <tr style=\"text-align: right;\">\n",
              "      <th></th>\n",
              "      <th>gender</th>\n",
              "      <th>race/ethinicity</th>\n",
              "      <th>parental level of education</th>\n",
              "      <th>lunch</th>\n",
              "      <th>test preparation course</th>\n",
              "      <th>math score</th>\n",
              "      <th>reading score</th>\n",
              "      <th>writing score</th>\n",
              "      <th>avg_score</th>\n",
              "    </tr>\n",
              "  </thead>\n",
              "  <tbody>\n",
              "    <tr>\n",
              "      <th>0</th>\n",
              "      <td>0</td>\n",
              "      <td>0</td>\n",
              "      <td>4</td>\n",
              "      <td>0</td>\n",
              "      <td>0</td>\n",
              "      <td>72</td>\n",
              "      <td>72</td>\n",
              "      <td>74</td>\n",
              "      <td>72.666667</td>\n",
              "    </tr>\n",
              "    <tr>\n",
              "      <th>1</th>\n",
              "      <td>0</td>\n",
              "      <td>1</td>\n",
              "      <td>2</td>\n",
              "      <td>0</td>\n",
              "      <td>1</td>\n",
              "      <td>69</td>\n",
              "      <td>90</td>\n",
              "      <td>88</td>\n",
              "      <td>82.333333</td>\n",
              "    </tr>\n",
              "    <tr>\n",
              "      <th>2</th>\n",
              "      <td>0</td>\n",
              "      <td>0</td>\n",
              "      <td>5</td>\n",
              "      <td>0</td>\n",
              "      <td>0</td>\n",
              "      <td>90</td>\n",
              "      <td>95</td>\n",
              "      <td>93</td>\n",
              "      <td>92.666667</td>\n",
              "    </tr>\n",
              "    <tr>\n",
              "      <th>3</th>\n",
              "      <td>1</td>\n",
              "      <td>2</td>\n",
              "      <td>3</td>\n",
              "      <td>1</td>\n",
              "      <td>0</td>\n",
              "      <td>47</td>\n",
              "      <td>57</td>\n",
              "      <td>44</td>\n",
              "      <td>49.333333</td>\n",
              "    </tr>\n",
              "    <tr>\n",
              "      <th>4</th>\n",
              "      <td>1</td>\n",
              "      <td>1</td>\n",
              "      <td>2</td>\n",
              "      <td>0</td>\n",
              "      <td>0</td>\n",
              "      <td>76</td>\n",
              "      <td>78</td>\n",
              "      <td>75</td>\n",
              "      <td>76.333333</td>\n",
              "    </tr>\n",
              "  </tbody>\n",
              "</table>\n",
              "</div>"
            ],
            "text/plain": [
              "   gender  race/ethinicity  ...  writing score  avg_score\n",
              "0       0                0  ...             74  72.666667\n",
              "1       0                1  ...             88  82.333333\n",
              "2       0                0  ...             93  92.666667\n",
              "3       1                2  ...             44  49.333333\n",
              "4       1                1  ...             75  76.333333\n",
              "\n",
              "[5 rows x 9 columns]"
            ]
          },
          "metadata": {
            "tags": []
          },
          "execution_count": 163
        }
      ]
    },
    {
      "cell_type": "code",
      "metadata": {
        "id": "yk0VYeyUHc0m"
      },
      "source": [
        "X_train, X_test, y_train, y_test = train_test_split(X, y, test_size=0.3, random_state=101)"
      ],
      "execution_count": null,
      "outputs": []
    },
    {
      "cell_type": "code",
      "metadata": {
        "colab": {
          "base_uri": "https://localhost:8080/"
        },
        "id": "OrxWJCVFHc0n",
        "outputId": "adab3d20-f103-4871-dd83-3a7619bf54e3"
      },
      "source": [
        "# feature selection\n",
        "X_train_fs, X_test_fs, fs = select_features(X_train, y_train, X_test)\n",
        "# what are scores for the features\n",
        "for i in range(len(fs.scores_)):\n",
        "\tprint('Feature %d: %f' % (i, fs.scores_[i]))"
      ],
      "execution_count": null,
      "outputs": [
        {
          "output_type": "stream",
          "text": [
            "Feature 0: 23.804687\n",
            "Feature 1: 35.484613\n",
            "Feature 2: 24.603619\n",
            "Feature 3: 94.051190\n",
            "Feature 4: 22.700796\n",
            "Feature 5: 1359.133622\n",
            "Feature 6: 1264.986127\n"
          ],
          "name": "stdout"
        }
      ]
    },
    {
      "cell_type": "code",
      "metadata": {
        "colab": {
          "base_uri": "https://localhost:8080/",
          "height": 353
        },
        "id": "5fHsrja8Hc0n",
        "outputId": "69a73caf-5980-4d3c-b901-ec2a217b5c55"
      },
      "source": [
        "# plot the scores\n",
        "plt.figure(figsize=(8,5))\n",
        "plt.bar([i for i in range(len(fs.scores_))], fs.scores_)\n",
        "plt.title('math score')\n",
        "plt.show()\n",
        "plt.savefig('math_score.png')"
      ],
      "execution_count": null,
      "outputs": [
        {
          "output_type": "display_data",
          "data": {
            "image/png": "[encoded data removed]",
            "text/plain": [
              "<Figure size 576x360 with 1 Axes>"
            ]
          },
          "metadata": {
            "tags": [],
            "needs_background": "light"
          }
        },
        {
          "output_type": "display_data",
          "data": {
            "text/plain": [
              "<Figure size 1440x720 with 0 Axes>"
            ]
          },
          "metadata": {
            "tags": []
          }
        }
      ]
    },
    {
      "cell_type": "code",
      "metadata": {
        "colab": {
          "base_uri": "https://localhost:8080/"
        },
        "id": "mHrvEhIw-z9X",
        "outputId": "e7218d95-4913-49ed-c090-b336b37691be"
      },
      "source": [
        "features_math"
      ],
      "execution_count": null,
      "outputs": [
        {
          "output_type": "execute_result",
          "data": {
            "text/plain": [
              "['gender',\n",
              " 'race/ethinicity',\n",
              " 'parental level of education',\n",
              " 'lunch',\n",
              " 'test preparation course',\n",
              " 'reading score',\n",
              " 'writing score']"
            ]
          },
          "metadata": {
            "tags": []
          },
          "execution_count": 167
        }
      ]
    },
    {
      "cell_type": "markdown",
      "metadata": {
        "id": "CKeRZ7PZUdvr"
      },
      "source": [
        "> Feature ที่ส่งผลต่อ Math Score คือ lunch , race_group E และ test preparation course "
      ]
    },
    {
      "cell_type": "markdown",
      "metadata": {
        "id": "pmVowEupS5rM"
      },
      "source": [
        "## Reading Score"
      ]
    },
    {
      "cell_type": "markdown",
      "metadata": {
        "id": "sn7GHRK1RaZQ"
      },
      "source": [
        "### Fix y at reading score"
      ]
    },
    {
      "cell_type": "code",
      "metadata": {
        "id": "nDAnX-joRdqc"
      },
      "source": [
        "y = data['reading score']"
      ],
      "execution_count": null,
      "outputs": []
    },
    {
      "cell_type": "markdown",
      "metadata": {
        "id": "cop8v3s2S5rx"
      },
      "source": [
        "### Train and Test Data"
      ]
    },
    {
      "cell_type": "code",
      "metadata": {
        "id": "FHNxgfrsS5r2"
      },
      "source": [
        "X_train, X_test, y_train, y_test = train_test_split(X, y, test_size=0.3, random_state=101)"
      ],
      "execution_count": null,
      "outputs": []
    },
    {
      "cell_type": "markdown",
      "metadata": {
        "id": "3ry2P9wpS5r3"
      },
      "source": [
        "###Training Model"
      ]
    },
    {
      "cell_type": "code",
      "metadata": {
        "id": "wZqj8JTQS5r4"
      },
      "source": [
        "model = LinearRegression()\n",
        "model.fit(X_train, y_train)"
      ],
      "execution_count": null,
      "outputs": []
    },
    {
      "cell_type": "markdown",
      "metadata": {
        "id": "kvr4NzUlS5r7"
      },
      "source": [
        "Check coefficients"
      ]
    },
    {
      "cell_type": "code",
      "metadata": {
        "id": "mIPTxWTUS5r8"
      },
      "source": [
        "model.coef_"
      ],
      "execution_count": null,
      "outputs": []
    },
    {
      "cell_type": "code",
      "metadata": {
        "id": "nhIS_R6NS5r-"
      },
      "source": [
        "pd.DataFrame(model.coef_, index=X.columns, columns=['Coeff'])"
      ],
      "execution_count": null,
      "outputs": []
    },
    {
      "cell_type": "markdown",
      "metadata": {
        "id": "QedBt0cXS5r_"
      },
      "source": [
        "###Predicting Test Data"
      ]
    },
    {
      "cell_type": "code",
      "metadata": {
        "id": "utnrs4gXS5sA"
      },
      "source": [
        "y_pred = model.predict(X_test)\n",
        "y_pred"
      ],
      "execution_count": null,
      "outputs": []
    },
    {
      "cell_type": "markdown",
      "metadata": {
        "id": "ap2KW4oAS5sC"
      },
      "source": [
        "วาด scatterplot เพื่อเปรียบเทียบ y_test และ y_pred"
      ]
    },
    {
      "cell_type": "code",
      "metadata": {
        "id": "BnA9qDE3S5sD"
      },
      "source": [
        "sns.scatterplot(x=y_test, y=y_pred)\n",
        "plt.xlabel('Y Test')\n",
        "plt.ylabel('Y Predicted')\n",
        "sns.lineplot(x=y_test, y=y_test, color='red')"
      ],
      "execution_count": null,
      "outputs": []
    },
    {
      "cell_type": "markdown",
      "metadata": {
        "id": "AZnL2ZeIS5sJ"
      },
      "source": [
        "###Evaluating Model \n",
        "- Mean Absolute Error\n",
        "- Mean Squared Error\n",
        "- Root Mean Squared Error"
      ]
    },
    {
      "cell_type": "code",
      "metadata": {
        "id": "fhK6VoZqS5sL"
      },
      "source": [
        "mae = metrics.mean_absolute_error(y_test, y_pred)\n",
        "mse = metrics.mean_squared_error(y_test, y_pred)\n",
        "rmse = np.sqrt(mse)\n",
        "\n",
        "print(f'Mean Absolute Error: {mae}')\n",
        "print(f'Mean Square Error: {mse}')\n",
        "print(f'Root Mean Square Error : {rmse}')"
      ],
      "execution_count": null,
      "outputs": []
    },
    {
      "cell_type": "code",
      "metadata": {
        "id": "V5fo328ZS5sN"
      },
      "source": [
        "y.describe()"
      ],
      "execution_count": null,
      "outputs": []
    },
    {
      "cell_type": "code",
      "metadata": {
        "id": "GfYEnxzgS5sP"
      },
      "source": [
        "print('Accuracy:',metrics.r2_score(y_test, y_pred)) "
      ],
      "execution_count": null,
      "outputs": []
    },
    {
      "cell_type": "markdown",
      "metadata": {
        "id": "RqgberKTS5sQ"
      },
      "source": [
        "###Residuals"
      ]
    },
    {
      "cell_type": "code",
      "metadata": {
        "id": "wRmwytzkS5sR"
      },
      "source": [
        "res = y_test - y_pred\n",
        "res.describe()"
      ],
      "execution_count": null,
      "outputs": []
    },
    {
      "cell_type": "code",
      "metadata": {
        "id": "q7xURC5lS5sS"
      },
      "source": [
        "sns.distplot(res)"
      ],
      "execution_count": null,
      "outputs": []
    },
    {
      "cell_type": "markdown",
      "metadata": {
        "id": "fNhsHWDwS5sT"
      },
      "source": [
        "### Correlation Feature Selection"
      ]
    },
    {
      "cell_type": "code",
      "metadata": {
        "id": "PZW8pGWGS5sU"
      },
      "source": [
        "data.head()"
      ],
      "execution_count": null,
      "outputs": []
    },
    {
      "cell_type": "code",
      "metadata": {
        "id": "knzt4L8LS5sX"
      },
      "source": [
        "X_train, X_test, y_train, y_test = train_test_split(X, y, test_size=0.3, random_state=101)"
      ],
      "execution_count": null,
      "outputs": []
    },
    {
      "cell_type": "code",
      "metadata": {
        "id": "7mD7u2oUS5sY"
      },
      "source": [
        "# feature selection\n",
        "X_train_fs, X_test_fs, fs = select_features(X_train, y_train, X_test)\n",
        "# what are scores for the features\n",
        "for i in range(len(fs.scores_)):\n",
        "\tprint('Feature %d: %f' % (i, fs.scores_[i]))"
      ],
      "execution_count": null,
      "outputs": []
    },
    {
      "cell_type": "code",
      "metadata": {
        "id": "JIX9Jx4bS5sb"
      },
      "source": [
        "# plot the scores\n",
        "plt.figure(figsize=(8,5))\n",
        "plt.bar([i for i in range(len(fs.scores_))], fs.scores_)\n",
        "plt.title('reading score')\n",
        "plt.show()\n",
        "plt.savefig('reading_score.png')"
      ],
      "execution_count": null,
      "outputs": []
    },
    {
      "cell_type": "code",
      "metadata": {
        "id": "gamdKu8DOdzG"
      },
      "source": [
        "data.head(1)"
      ],
      "execution_count": null,
      "outputs": []
    },
    {
      "cell_type": "markdown",
      "metadata": {
        "id": "bbx5TlgzU2qg"
      },
      "source": [
        "> Feature ที่ส่งผลต่อ Reading Score มากที่สุด คือ gender, test prepareation course, และ lunch ตามลำดับ"
      ]
    },
    {
      "cell_type": "markdown",
      "metadata": {
        "id": "bc2AdYAPTkGr"
      },
      "source": [
        "## Writing Score"
      ]
    },
    {
      "cell_type": "markdown",
      "metadata": {
        "id": "CGs3wXIZRkDf"
      },
      "source": [
        "### Fix y at writing score"
      ]
    },
    {
      "cell_type": "code",
      "metadata": {
        "id": "LbyIXkGoRoSo"
      },
      "source": [
        "y = data['writing score']"
      ],
      "execution_count": null,
      "outputs": []
    },
    {
      "cell_type": "markdown",
      "metadata": {
        "id": "68S-Lzj5TkHF"
      },
      "source": [
        "### Train and Test Data"
      ]
    },
    {
      "cell_type": "code",
      "metadata": {
        "id": "VKdx8WMtTkHI"
      },
      "source": [
        "X_train, X_test, y_train, y_test = train_test_split(X, y, test_size=0.3, random_state=101)"
      ],
      "execution_count": null,
      "outputs": []
    },
    {
      "cell_type": "markdown",
      "metadata": {
        "id": "JF6BPin6TkHI"
      },
      "source": [
        "###Training Model"
      ]
    },
    {
      "cell_type": "code",
      "metadata": {
        "id": "tuDJ_duVTkHJ"
      },
      "source": [
        "model = LinearRegression()\n",
        "model.fit(X_train, y_train)"
      ],
      "execution_count": null,
      "outputs": []
    },
    {
      "cell_type": "markdown",
      "metadata": {
        "id": "Zh0FJxdlTkHL"
      },
      "source": [
        "Check coefficients"
      ]
    },
    {
      "cell_type": "code",
      "metadata": {
        "id": "l_Amq3ciTkHM"
      },
      "source": [
        "model.coef_"
      ],
      "execution_count": null,
      "outputs": []
    },
    {
      "cell_type": "code",
      "metadata": {
        "id": "DbOxXLHbTkHM"
      },
      "source": [
        "pd.DataFrame(model.coef_, index=X.columns, columns=['Coeff'])"
      ],
      "execution_count": null,
      "outputs": []
    },
    {
      "cell_type": "markdown",
      "metadata": {
        "id": "wNl7kqfmTkHN"
      },
      "source": [
        "###Predicting Test Data"
      ]
    },
    {
      "cell_type": "code",
      "metadata": {
        "id": "oRNqW9iwTkHN"
      },
      "source": [
        "y_pred = model.predict(X_test)\n",
        "y_pred"
      ],
      "execution_count": null,
      "outputs": []
    },
    {
      "cell_type": "markdown",
      "metadata": {
        "id": "KANuR8G1TkHO"
      },
      "source": [
        "วาด scatterplot เพื่อเปรียบเทียบ y_test และ y_pred"
      ]
    },
    {
      "cell_type": "code",
      "metadata": {
        "id": "zrOmso9hTkHP"
      },
      "source": [
        "sns.scatterplot(x=y_test, y=y_pred)\n",
        "plt.xlabel('Y Test')\n",
        "plt.ylabel('Y Predicted')\n",
        "sns.lineplot(x=y_test, y=y_test, color='red')"
      ],
      "execution_count": null,
      "outputs": []
    },
    {
      "cell_type": "markdown",
      "metadata": {
        "id": "639hdHtcTkHP"
      },
      "source": [
        "###Evaluating Model \n",
        "- Mean Absolute Error\n",
        "- Mean Squared Error\n",
        "- Root Mean Squared Error"
      ]
    },
    {
      "cell_type": "code",
      "metadata": {
        "id": "sJ830JcITkHQ"
      },
      "source": [
        "mae = metrics.mean_absolute_error(y_test, y_pred)\n",
        "mse = metrics.mean_squared_error(y_test, y_pred)\n",
        "rmse = np.sqrt(mse)\n",
        "\n",
        "print(f'Mean Absolute Error: {mae}')\n",
        "print(f'Mean Square Error: {mse}')\n",
        "print(f'Root Mean Square Error : {rmse}')"
      ],
      "execution_count": null,
      "outputs": []
    },
    {
      "cell_type": "code",
      "metadata": {
        "id": "tVsXaM21TkHQ"
      },
      "source": [
        "y.describe()"
      ],
      "execution_count": null,
      "outputs": []
    },
    {
      "cell_type": "code",
      "metadata": {
        "id": "bh2QOPHYTkHR"
      },
      "source": [
        "print('Accuracy:',metrics.r2_score(y_test, y_pred)) "
      ],
      "execution_count": null,
      "outputs": []
    },
    {
      "cell_type": "markdown",
      "metadata": {
        "id": "y_t0bzCHTkHR"
      },
      "source": [
        "###Residuals"
      ]
    },
    {
      "cell_type": "code",
      "metadata": {
        "id": "2xI8Ar36TkHR"
      },
      "source": [
        "res = y_test - y_pred\n",
        "res.describe()"
      ],
      "execution_count": null,
      "outputs": []
    },
    {
      "cell_type": "code",
      "metadata": {
        "id": "u9MG0nZQTkHS"
      },
      "source": [
        "sns.distplot(res)"
      ],
      "execution_count": null,
      "outputs": []
    },
    {
      "cell_type": "markdown",
      "metadata": {
        "id": "7y5R9CxZTkHS"
      },
      "source": [
        "### Correlation Feature Selection"
      ]
    },
    {
      "cell_type": "code",
      "metadata": {
        "id": "QGLcJEzyTkHU"
      },
      "source": [
        "data.head()"
      ],
      "execution_count": null,
      "outputs": []
    },
    {
      "cell_type": "code",
      "metadata": {
        "id": "AwqcaVXzTkHV"
      },
      "source": [
        "X_train, X_test, y_train, y_test = train_test_split(X, y, test_size=0.3, random_state=101)"
      ],
      "execution_count": null,
      "outputs": []
    },
    {
      "cell_type": "code",
      "metadata": {
        "id": "PV1mIa5KTkHV"
      },
      "source": [
        "# feature selection\n",
        "X_train_fs, X_test_fs, fs = select_features(X_train, y_train, X_test)\n",
        "# what are scores for the features\n",
        "for i in range(len(fs.scores_)):\n",
        "\tprint('Feature %d: %f' % (i, fs.scores_[i]))"
      ],
      "execution_count": null,
      "outputs": []
    },
    {
      "cell_type": "code",
      "metadata": {
        "id": "fyQyQsPgTkHW"
      },
      "source": [
        "# plot the scores\n",
        "plt.figure(figsize=(8,5))\n",
        "plt.bar([i for i in range(len(fs.scores_))], fs.scores_)\n",
        "plt.title('writing score')\n",
        "plt.show()\n",
        "plt.savefig('writing_score.png')"
      ],
      "execution_count": null,
      "outputs": []
    },
    {
      "cell_type": "code",
      "metadata": {
        "id": "JjmsxO4TOceR"
      },
      "source": [
        "data.head(1)"
      ],
      "execution_count": null,
      "outputs": []
    },
    {
      "cell_type": "markdown",
      "metadata": {
        "id": "AFMpJCM6Va-l"
      },
      "source": [
        "> Feature ที่ส่งผลต่อ Writing Score มากที่สุด คือ test preparetion, และ gender ตามลำดับ"
      ]
    },
    {
      "cell_type": "markdown",
      "metadata": {
        "id": "QiZ-ONuAKpwj"
      },
      "source": [
        "## Average Score"
      ]
    },
    {
      "cell_type": "markdown",
      "metadata": {
        "id": "sz3cG7jxRx8n"
      },
      "source": [
        "### Fix y at average score"
      ]
    },
    {
      "cell_type": "code",
      "metadata": {
        "id": "95uT2kOJR2Ng"
      },
      "source": [
        "y = data['avg_score']"
      ],
      "execution_count": null,
      "outputs": []
    },
    {
      "cell_type": "markdown",
      "metadata": {
        "id": "hPqbSWxPjYkP"
      },
      "source": [
        "### Train and Test Data"
      ]
    },
    {
      "cell_type": "code",
      "metadata": {
        "id": "Jkpv3kDxj07z"
      },
      "source": [
        "X_train, X_test, y_train, y_test = train_test_split(X, y, test_size=0.3, random_state=101)"
      ],
      "execution_count": null,
      "outputs": []
    },
    {
      "cell_type": "markdown",
      "metadata": {
        "id": "-MJ76dwxkHEV"
      },
      "source": [
        "###Training Model"
      ]
    },
    {
      "cell_type": "code",
      "metadata": {
        "id": "k2FU2Wq2kNax",
        "colab": {
          "base_uri": "https://localhost:8080/"
        },
        "outputId": "475ca907-296a-47d5-8317-61f6599f5d5e"
      },
      "source": [
        "model = LinearRegression()\n",
        "model.fit(X_train, y_train)"
      ],
      "execution_count": null,
      "outputs": [
        {
          "output_type": "execute_result",
          "data": {
            "text/plain": [
              "LinearRegression(copy_X=True, fit_intercept=True, n_jobs=None, normalize=False)"
            ]
          },
          "metadata": {
            "tags": []
          },
          "execution_count": 191
        }
      ]
    },
    {
      "cell_type": "markdown",
      "metadata": {
        "id": "Xac65KqMmQ3B"
      },
      "source": [
        "Check coefficients"
      ]
    },
    {
      "cell_type": "code",
      "metadata": {
        "colab": {
          "base_uri": "https://localhost:8080/"
        },
        "id": "4NRJGhINkfDl",
        "outputId": "80a86a93-233f-47df-b0d0-eaba9eb87d90"
      },
      "source": [
        "model.coef_"
      ],
      "execution_count": null,
      "outputs": [
        {
          "output_type": "execute_result",
          "data": {
            "text/plain": [
              "array([-3.91193332,  1.61591786,  2.03412155, -8.77043834,  7.72071302])"
            ]
          },
          "metadata": {
            "tags": []
          },
          "execution_count": 192
        }
      ]
    },
    {
      "cell_type": "code",
      "metadata": {
        "colab": {
          "base_uri": "https://localhost:8080/",
          "height": 195
        },
        "id": "ZeDjQBK3k5HP",
        "outputId": "541a23bf-a7de-4203-8fcf-53dc66b5ddf3"
      },
      "source": [
        "pd.DataFrame(model.coef_, index=X.columns, columns=['Coeff'])"
      ],
      "execution_count": null,
      "outputs": [
        {
          "output_type": "execute_result",
          "data": {
            "text/html": [
              "<div>\n",
              "<style scoped>\n",
              "    .dataframe tbody tr th:only-of-type {\n",
              "        vertical-align: middle;\n",
              "    }\n",
              "\n",
              "    .dataframe tbody tr th {\n",
              "        vertical-align: top;\n",
              "    }\n",
              "\n",
              "    .dataframe thead th {\n",
              "        text-align: right;\n",
              "    }\n",
              "</style>\n",
              "<table border=\"1\" class=\"dataframe\">\n",
              "  <thead>\n",
              "    <tr style=\"text-align: right;\">\n",
              "      <th></th>\n",
              "      <th>Coeff</th>\n",
              "    </tr>\n",
              "  </thead>\n",
              "  <tbody>\n",
              "    <tr>\n",
              "      <th>gender</th>\n",
              "      <td>-3.911933</td>\n",
              "    </tr>\n",
              "    <tr>\n",
              "      <th>race/ethinicity</th>\n",
              "      <td>1.615918</td>\n",
              "    </tr>\n",
              "    <tr>\n",
              "      <th>parental level of education</th>\n",
              "      <td>2.034122</td>\n",
              "    </tr>\n",
              "    <tr>\n",
              "      <th>lunch</th>\n",
              "      <td>-8.770438</td>\n",
              "    </tr>\n",
              "    <tr>\n",
              "      <th>test preparation course</th>\n",
              "      <td>7.720713</td>\n",
              "    </tr>\n",
              "  </tbody>\n",
              "</table>\n",
              "</div>"
            ],
            "text/plain": [
              "                                Coeff\n",
              "gender                      -3.911933\n",
              "race/ethinicity              1.615918\n",
              "parental level of education  2.034122\n",
              "lunch                       -8.770438\n",
              "test preparation course      7.720713"
            ]
          },
          "metadata": {
            "tags": []
          },
          "execution_count": 193
        }
      ]
    },
    {
      "cell_type": "markdown",
      "metadata": {
        "id": "a1_7WW7MlBtM"
      },
      "source": [
        "###Predicting Test Data"
      ]
    },
    {
      "cell_type": "code",
      "metadata": {
        "colab": {
          "base_uri": "https://localhost:8080/"
        },
        "id": "JOQ4U9ghl1xo",
        "outputId": "4ee21e9b-018e-4287-afe0-b813bc374532"
      },
      "source": [
        "y_pred = model.predict(X_test)\n",
        "y_pred"
      ],
      "execution_count": null,
      "outputs": [
        {
          "output_type": "execute_result",
          "data": {
            "text/plain": [
              "array([53.96633721, 59.65049817, 62.58046576, 68.26462672, 71.07825876,\n",
              "       70.03928487, 58.81409079, 73.530584  , 66.64870886, 64.77089709,\n",
              "       77.33936369, 70.30117878, 70.45748856, 71.23699904, 77.5988271 ,\n",
              "       77.18305391, 72.49161011, 58.81409079, 70.44430662, 57.61637662,\n",
              "       75.56470555, 61.94651363, 72.8529169 , 72.8529169 , 60.27369887,\n",
              "       74.10752797, 63.56486199, 82.86721487, 64.3526934 , 64.34194197,\n",
              "       73.530584  , 68.68283041, 68.4209365 , 66.37606352, 64.50068226,\n",
              "       69.4623409 , 64.76014566, 70.29874827, 56.77996924, 68.15072167,\n",
              "       81.25129701, 77.18305391, 60.70265399, 71.91709664, 70.18484322,\n",
              "       75.30524214, 73.530584  , 70.18484322, 61.68461972, 60.2844503 ,\n",
              "       76.14164952, 72.49161011, 61.94651363, 73.11238031, 53.96633721,\n",
              "       57.46006684, 70.44430662, 57.87827053, 70.03685436, 75.98533974,\n",
              "       62.4641302 , 60.2844503 , 66.38924546, 65.59655304, 82.86721487,\n",
              "       68.68283041, 66.79669772, 75.14650186, 73.5330145 , 78.01946129,\n",
              "       64.76014566, 70.02853344, 69.88054458, 78.01946129, 72.33530033,\n",
              "       62.73677554, 71.49646245, 82.08770439, 58.0345803 , 73.68689377,\n",
              "       66.23050517, 65.18077986, 77.18305391, 59.49418839, 62.46656071,\n",
              "       61.90036816, 67.21490141, 64.3526934 , 63.1442278 , 58.81409079,\n",
              "       64.3526934 , 66.79426721, 69.20044698, 53.12992983, 69.40533273,\n",
              "       79.21717546, 80.05358284, 60.27369887, 78.01946129, 62.31857185,\n",
              "       61.68705022, 66.64870886, 69.24902296, 62.30782042, 71.91709664,\n",
              "       74.36942188, 63.51628602, 62.73677554, 84.90133642, 60.06870185,\n",
              "       82.86721487, 69.40533273, 62.31857185, 68.42336701, 68.41261558,\n",
              "       69.20044698, 69.61865067, 72.49161011, 65.13220389, 73.68689377,\n",
              "       77.18062341, 56.77996924, 75.30524214, 57.46006684, 77.5988271 ,\n",
              "       63.56243149, 66.79669772, 67.58452912, 68.56892536, 71.91709664,\n",
              "       78.95528155, 63.51628602, 72.33286982, 68.68283041, 80.05358284,\n",
              "       73.68932428, 71.49646245, 66.11660012, 64.61458731, 76.40354343,\n",
              "       62.72602411, 57.61637662, 65.55040757, 65.55040757, 75.14650186,\n",
              "       80.9894031 , 71.2831445 , 66.23050517, 65.33708963, 75.56713605,\n",
              "       61.53074044, 61.52830994, 71.70134819, 71.2831445 , 61.53074044,\n",
              "       72.33286982, 77.5988271 , 77.18062341, 57.87827053, 67.58452912,\n",
              "       67.37121118, 66.95300749, 67.42821935, 84.90133642, 70.29874827,\n",
              "       70.29874827, 51.51401197, 62.88233389, 70.45748856, 70.44430662,\n",
              "       64.19638362, 70.29874827, 70.71695196, 68.26462672, 64.50068226,\n",
              "       64.61458731, 58.81409079, 51.93221566, 76.54910178, 68.41261558,\n",
              "       66.80501864, 65.59898354, 85.31954011, 64.19638362, 66.23050517,\n",
              "       79.21717546, 56.77996924, 62.72602411, 72.06265499, 66.64870886,\n",
              "       69.4623409 , 68.68283041, 75.98533974, 75.14650186, 56.00045875,\n",
              "       62.46656071, 75.14893236, 72.8529169 , 75.14893236, 67.58452912,\n",
              "       53.96633721, 63.30296808, 64.61458731, 71.23456853, 66.38681495,\n",
              "       57.61637662, 71.23699904, 75.30524214, 75.98533974, 55.84414898,\n",
              "       62.72602411, 71.91466613, 63.51628602, 75.14893236, 67.16632544,\n",
              "       61.11010625, 68.26462672, 72.33530033, 64.61458731, 61.26884653,\n",
              "       76.40354343, 72.75107351, 70.29874827, 61.90036816, 59.49418839,\n",
              "       67.58452912, 72.06265499, 58.65778101, 77.6012576 , 53.54813352,\n",
              "       70.03685436, 78.01946129, 68.26462672, 64.34194197, 66.23050517,\n",
              "       71.2831445 , 69.61865067, 62.31857185, 59.49418839, 64.61458731,\n",
              "       53.12992983, 57.04186315, 72.8529169 , 53.96633721, 55.84414898,\n",
              "       71.49646245, 75.56470555, 71.23699904, 66.38681495, 57.61637662,\n",
              "       62.31857185, 60.70265399, 55.42594529, 59.23472498, 72.33286982,\n",
              "       75.30524214, 74.36942188, 67.42821935, 71.2831445 , 70.60304691,\n",
              "       62.58046576, 68.42336701, 79.63537915, 75.30281163, 66.37849403,\n",
              "       77.75756738, 63.51628602, 78.01946129, 70.45505805, 59.23472498,\n",
              "       74.10752797, 51.93221566, 67.58452912, 66.37606352, 64.3526934 ,\n",
              "       69.61865067, 58.65778101, 63.56243149, 64.3526934 , 64.19638362,\n",
              "       62.4641302 , 75.14650186, 59.65049817, 63.1442278 , 66.38681495,\n",
              "       75.30524214, 71.49646245, 65.33708963, 70.45505805, 72.33286982,\n",
              "       59.49418839, 68.26462672, 69.24902296, 57.04186315, 60.84821234,\n",
              "       65.18077986, 55.58225507, 66.38681495, 71.70134819])"
            ]
          },
          "metadata": {
            "tags": []
          },
          "execution_count": 194
        }
      ]
    },
    {
      "cell_type": "markdown",
      "metadata": {
        "id": "Y479qnhOl__Q"
      },
      "source": [
        "วาด scatterplot เพื่อเปรียบเทียบ y_test และ y_pred"
      ]
    },
    {
      "cell_type": "code",
      "metadata": {
        "colab": {
          "base_uri": "https://localhost:8080/",
          "height": 463
        },
        "id": "guyHB_xZl-gG",
        "outputId": "98f47254-a454-4202-b348-127200c62465"
      },
      "source": [
        "sns.scatterplot(x=y_test, y=y_pred)\n",
        "plt.xlabel('Y Test')\n",
        "plt.ylabel('Y Predicted')\n",
        "sns.lineplot(x=y_test, y=y_test, color='red')"
      ],
      "execution_count": null,
      "outputs": [
        {
          "output_type": "execute_result",
          "data": {
            "text/plain": [
              "<matplotlib.axes._subplots.AxesSubplot at 0x7f7b54655310>"
            ]
          },
          "metadata": {
            "tags": []
          },
          "execution_count": 195
        },
        {
          "output_type": "display_data",
          "data": {
            "image/png": "[encoded data removed]",
            "text/plain": [
              "<Figure size 1440x720 with 1 Axes>"
            ]
          },
          "metadata": {
            "tags": [],
            "needs_background": "light"
          }
        }
      ]
    },
    {
      "cell_type": "markdown",
      "metadata": {
        "id": "SBwADnZFmZxz"
      },
      "source": [
        "###Evaluating Model \n",
        "- Mean Absolute Error\n",
        "- Mean Squared Error\n",
        "- Root Mean Squared Error"
      ]
    },
    {
      "cell_type": "code",
      "metadata": {
        "colab": {
          "base_uri": "https://localhost:8080/"
        },
        "id": "QLiUkF9Hmnfq",
        "outputId": "ec9bdfad-7abb-4e80-bfbc-dbdc8c432ea0"
      },
      "source": [
        "mae = metrics.mean_absolute_error(y_test, y_pred)\n",
        "mse = metrics.mean_squared_error(y_test, y_pred)\n",
        "rmse = np.sqrt(mse)\n",
        "\n",
        "print(f'Mean Absolute Error: {mae}')\n",
        "print(f'Mean Square Error: {mse}')\n",
        "print(f'Root Mean Square Error : {rmse}')"
      ],
      "execution_count": null,
      "outputs": [
        {
          "output_type": "stream",
          "text": [
            "Mean Absolute Error: 9.9061722094363\n",
            "Mean Square Error: 150.9800302705107\n",
            "Root Mean Square Error : 12.287393143808442\n"
          ],
          "name": "stdout"
        }
      ]
    },
    {
      "cell_type": "code",
      "metadata": {
        "colab": {
          "base_uri": "https://localhost:8080/"
        },
        "id": "Kqk7vutNmv2x",
        "outputId": "4b8dea47-010c-413e-b852-fa4a0326875a"
      },
      "source": [
        "y.describe()"
      ],
      "execution_count": null,
      "outputs": [
        {
          "output_type": "execute_result",
          "data": {
            "text/plain": [
              "count    996.000000\n",
              "mean      67.776104\n",
              "std       14.224983\n",
              "min        9.000000\n",
              "25%       58.333333\n",
              "50%       68.333333\n",
              "75%       77.666667\n",
              "max      100.000000\n",
              "Name: avg_score, dtype: float64"
            ]
          },
          "metadata": {
            "tags": []
          },
          "execution_count": 197
        }
      ]
    },
    {
      "cell_type": "code",
      "metadata": {
        "colab": {
          "base_uri": "https://localhost:8080/"
        },
        "id": "Ow1LeYZZm6fA",
        "outputId": "8ac734f9-d2f7-4b3f-f599-4a964a559ddc"
      },
      "source": [
        "print('Accuracy:',metrics.r2_score(y_test, y_pred)) "
      ],
      "execution_count": null,
      "outputs": [
        {
          "output_type": "stream",
          "text": [
            "Accuracy: 0.2118793377107242\n"
          ],
          "name": "stdout"
        }
      ]
    },
    {
      "cell_type": "markdown",
      "metadata": {
        "id": "-LaGij8Kndk7"
      },
      "source": [
        "###Residuals"
      ]
    },
    {
      "cell_type": "code",
      "metadata": {
        "colab": {
          "base_uri": "https://localhost:8080/"
        },
        "id": "upxC87TKnbG7",
        "outputId": "50214c78-eb5d-4cd8-c06e-9ae347be410c"
      },
      "source": [
        "res = y_test - y_pred\n",
        "res.describe()"
      ],
      "execution_count": null,
      "outputs": [
        {
          "output_type": "execute_result",
          "data": {
            "text/plain": [
              "count    299.000000\n",
              "mean       0.765311\n",
              "std       12.284096\n",
              "min      -37.180623\n",
              "25%       -7.115533\n",
              "50%        1.313872\n",
              "75%        9.424218\n",
              "max       26.505812\n",
              "Name: avg_score, dtype: float64"
            ]
          },
          "metadata": {
            "tags": []
          },
          "execution_count": 199
        }
      ]
    },
    {
      "cell_type": "code",
      "metadata": {
        "colab": {
          "base_uri": "https://localhost:8080/",
          "height": 514
        },
        "id": "2M6rBLlHnl_R",
        "outputId": "db21c904-65c1-4f3a-baf7-6997c6d06ffc"
      },
      "source": [
        "sns.distplot(res)"
      ],
      "execution_count": null,
      "outputs": [
        {
          "output_type": "stream",
          "text": [
            "/usr/local/lib/python3.7/dist-packages/seaborn/distributions.py:2557: FutureWarning: `distplot` is a deprecated function and will be removed in a future version. Please adapt your code to use either `displot` (a figure-level function with similar flexibility) or `histplot` (an axes-level function for histograms).\n",
            "  warnings.warn(msg, FutureWarning)\n"
          ],
          "name": "stderr"
        },
        {
          "output_type": "execute_result",
          "data": {
            "text/plain": [
              "<matplotlib.axes._subplots.AxesSubplot at 0x7f7b53992550>"
            ]
          },
          "metadata": {
            "tags": []
          },
          "execution_count": 200
        },
        {
          "output_type": "display_data",
          "data": {
            "image/png": "[encoded data removed]",
            "text/plain": [
              "<Figure size 1440x720 with 1 Axes>"
            ]
          },
          "metadata": {
            "tags": [],
            "needs_background": "light"
          }
        }
      ]
    },
    {
      "cell_type": "markdown",
      "metadata": {
        "id": "xr4EYB5jzNXP"
      },
      "source": [
        "### Correlation Feature Selection"
      ]
    },
    {
      "cell_type": "code",
      "metadata": {
        "colab": {
          "base_uri": "https://localhost:8080/",
          "height": 229
        },
        "id": "UGQ-ncTN0xWh",
        "outputId": "988b68bb-7391-462b-ecad-e29c0a57bc51"
      },
      "source": [
        "data.head()"
      ],
      "execution_count": null,
      "outputs": [
        {
          "output_type": "execute_result",
          "data": {
            "text/html": [
              "<div>\n",
              "<style scoped>\n",
              "    .dataframe tbody tr th:only-of-type {\n",
              "        vertical-align: middle;\n",
              "    }\n",
              "\n",
              "    .dataframe tbody tr th {\n",
              "        vertical-align: top;\n",
              "    }\n",
              "\n",
              "    .dataframe thead th {\n",
              "        text-align: right;\n",
              "    }\n",
              "</style>\n",
              "<table border=\"1\" class=\"dataframe\">\n",
              "  <thead>\n",
              "    <tr style=\"text-align: right;\">\n",
              "      <th></th>\n",
              "      <th>gender</th>\n",
              "      <th>race/ethinicity</th>\n",
              "      <th>parental level of education</th>\n",
              "      <th>lunch</th>\n",
              "      <th>test preparation course</th>\n",
              "      <th>math score</th>\n",
              "      <th>reading score</th>\n",
              "      <th>writing score</th>\n",
              "      <th>avg_score</th>\n",
              "    </tr>\n",
              "  </thead>\n",
              "  <tbody>\n",
              "    <tr>\n",
              "      <th>0</th>\n",
              "      <td>0</td>\n",
              "      <td>0</td>\n",
              "      <td>4</td>\n",
              "      <td>0</td>\n",
              "      <td>0</td>\n",
              "      <td>72</td>\n",
              "      <td>72</td>\n",
              "      <td>74</td>\n",
              "      <td>72.666667</td>\n",
              "    </tr>\n",
              "    <tr>\n",
              "      <th>1</th>\n",
              "      <td>0</td>\n",
              "      <td>1</td>\n",
              "      <td>2</td>\n",
              "      <td>0</td>\n",
              "      <td>1</td>\n",
              "      <td>69</td>\n",
              "      <td>90</td>\n",
              "      <td>88</td>\n",
              "      <td>82.333333</td>\n",
              "    </tr>\n",
              "    <tr>\n",
              "      <th>2</th>\n",
              "      <td>0</td>\n",
              "      <td>0</td>\n",
              "      <td>5</td>\n",
              "      <td>0</td>\n",
              "      <td>0</td>\n",
              "      <td>90</td>\n",
              "      <td>95</td>\n",
              "      <td>93</td>\n",
              "      <td>92.666667</td>\n",
              "    </tr>\n",
              "    <tr>\n",
              "      <th>3</th>\n",
              "      <td>1</td>\n",
              "      <td>2</td>\n",
              "      <td>3</td>\n",
              "      <td>1</td>\n",
              "      <td>0</td>\n",
              "      <td>47</td>\n",
              "      <td>57</td>\n",
              "      <td>44</td>\n",
              "      <td>49.333333</td>\n",
              "    </tr>\n",
              "    <tr>\n",
              "      <th>4</th>\n",
              "      <td>1</td>\n",
              "      <td>1</td>\n",
              "      <td>2</td>\n",
              "      <td>0</td>\n",
              "      <td>0</td>\n",
              "      <td>76</td>\n",
              "      <td>78</td>\n",
              "      <td>75</td>\n",
              "      <td>76.333333</td>\n",
              "    </tr>\n",
              "  </tbody>\n",
              "</table>\n",
              "</div>"
            ],
            "text/plain": [
              "   gender  race/ethinicity  ...  writing score  avg_score\n",
              "0       0                0  ...             74  72.666667\n",
              "1       0                1  ...             88  82.333333\n",
              "2       0                0  ...             93  92.666667\n",
              "3       1                2  ...             44  49.333333\n",
              "4       1                1  ...             75  76.333333\n",
              "\n",
              "[5 rows x 9 columns]"
            ]
          },
          "metadata": {
            "tags": []
          },
          "execution_count": 201
        }
      ]
    },
    {
      "cell_type": "code",
      "metadata": {
        "id": "zPtfDoMGDpBD"
      },
      "source": [
        "X_train, X_test, y_train, y_test = train_test_split(X, y, test_size=0.3, random_state=101)"
      ],
      "execution_count": null,
      "outputs": []
    },
    {
      "cell_type": "code",
      "metadata": {
        "colab": {
          "base_uri": "https://localhost:8080/"
        },
        "id": "SDKhKxgx1Zc0",
        "outputId": "fdc11089-d9c9-47ab-b88d-c9bd7c38f2b8"
      },
      "source": [
        "# feature selection\n",
        "X_train_fs, X_test_fs, fs = select_features(X_train, y_train, X_test)\n",
        "# what are scores for the features\n",
        "for i in range(len(fs.scores_)):\n",
        "\tprint('Feature %d: %f' % (i, fs.scores_[i]))"
      ],
      "execution_count": null,
      "outputs": [
        {
          "output_type": "stream",
          "text": [
            "Feature 0: 10.280731\n",
            "Feature 1: 22.569262\n",
            "Feature 2: 37.768587\n",
            "Feature 3: 61.343235\n",
            "Feature 4: 47.556517\n"
          ],
          "name": "stdout"
        }
      ]
    },
    {
      "cell_type": "code",
      "metadata": {
        "colab": {
          "base_uri": "https://localhost:8080/",
          "height": 353
        },
        "id": "calizA9m1-od",
        "outputId": "f383df2e-3709-4edd-9e57-c6310a7c59f6"
      },
      "source": [
        "# plot the scores\n",
        "plt.figure(figsize=(8,5))\n",
        "plt.bar([i for i in range(len(fs.scores_))], fs.scores_)\n",
        "plt.title('average score')\n",
        "plt.show()\n",
        "plt.savefig('avg_score.png')"
      ],
      "execution_count": null,
      "outputs": [
        {
          "output_type": "display_data",
          "data": {
            "image/png": "[encoded data removed]",
            "text/plain": [
              "<Figure size 576x360 with 1 Axes>"
            ]
          },
          "metadata": {
            "tags": [],
            "needs_background": "light"
          }
        },
        {
          "output_type": "display_data",
          "data": {
            "text/plain": [
              "<Figure size 1440x720 with 0 Axes>"
            ]
          },
          "metadata": {
            "tags": []
          }
        }
      ]
    },
    {
      "cell_type": "code",
      "metadata": {
        "colab": {
          "base_uri": "https://localhost:8080/"
        },
        "id": "ApjLgaWKLFt0",
        "outputId": "73ed3462-a77f-4d51-9eb9-fbf12cfd7ef3"
      },
      "source": [
        "features"
      ],
      "execution_count": null,
      "outputs": [
        {
          "output_type": "execute_result",
          "data": {
            "text/plain": [
              "['gender',\n",
              " 'race/ethinicity',\n",
              " 'parental level of education',\n",
              " 'lunch',\n",
              " 'test preparation course']"
            ]
          },
          "metadata": {
            "tags": []
          },
          "execution_count": 205
        }
      ]
    },
    {
      "cell_type": "code",
      "metadata": {
        "colab": {
          "base_uri": "https://localhost:8080/",
          "height": 106
        },
        "id": "NdCo9SWFTTIO",
        "outputId": "e6d897a5-c9ed-4101-ba8b-978dd2a750d7"
      },
      "source": [
        "data[['math score','test preparation course' ]].corr() "
      ],
      "execution_count": null,
      "outputs": [
        {
          "output_type": "execute_result",
          "data": {
            "text/html": [
              "<div>\n",
              "<style scoped>\n",
              "    .dataframe tbody tr th:only-of-type {\n",
              "        vertical-align: middle;\n",
              "    }\n",
              "\n",
              "    .dataframe tbody tr th {\n",
              "        vertical-align: top;\n",
              "    }\n",
              "\n",
              "    .dataframe thead th {\n",
              "        text-align: right;\n",
              "    }\n",
              "</style>\n",
              "<table border=\"1\" class=\"dataframe\">\n",
              "  <thead>\n",
              "    <tr style=\"text-align: right;\">\n",
              "      <th></th>\n",
              "      <th>math score</th>\n",
              "      <th>test preparation course</th>\n",
              "    </tr>\n",
              "  </thead>\n",
              "  <tbody>\n",
              "    <tr>\n",
              "      <th>math score</th>\n",
              "      <td>1.000000</td>\n",
              "      <td>0.181127</td>\n",
              "    </tr>\n",
              "    <tr>\n",
              "      <th>test preparation course</th>\n",
              "      <td>0.181127</td>\n",
              "      <td>1.000000</td>\n",
              "    </tr>\n",
              "  </tbody>\n",
              "</table>\n",
              "</div>"
            ],
            "text/plain": [
              "                         math score  test preparation course\n",
              "math score                 1.000000                 0.181127\n",
              "test preparation course    0.181127                 1.000000"
            ]
          },
          "metadata": {
            "tags": []
          },
          "execution_count": 206
        }
      ]
    },
    {
      "cell_type": "markdown",
      "metadata": {
        "id": "C4SruUeYkmjM"
      },
      "source": [
        "# Answer Questions\n",
        "### Objective:\n",
        "**ให้สร้าง model ทำนายผลคะแนนเฉลี่ย และตอบคำถามต่อไปนี้**"
      ]
    },
    {
      "cell_type": "markdown",
      "metadata": {
        "id": "szOnREaBk1cN"
      },
      "source": [
        "## การเรียน test preparation course ส่งผลต่อผลคะแนนวิชาเลขไหม?\n",
        "\n",
        "* จากกราฟด้านล่าง test_completed และ test_none ไม่แตกต่างกัน\n",
        "* เมื่อดูจากค่า correlation พบว่า test_completed และ test_none มีค่าเท่ากับ 0.181127 อยู่ในช่วง 0 <= r < 0.3\n",
        "* ดังนั้น test preparation course มีความสัมพันธ์กับ math score ในระดับต่ำมาก (แทบจะไม่มีความสัมพันธ์กัน)\n",
        "* จึงสรุปได้ว่า การเรียน test preparation course ไม่ส่งผลต่อผลคะแนนวิชาเลข"
      ]
    },
    {
      "cell_type": "markdown",
      "metadata": {
        "id": "g4uAxzc0awol"
      },
      "source": [
        "![math_score.png](data:image/png;base64,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)"
      ]
    },
    {
      "cell_type": "markdown",
      "metadata": {
        "id": "ZRhxsC92CnIw"
      },
      "source": [
        "Feature ที่ส่งผลต่อ Math Score คือ lunch , race_group E และ test preparation course ตามลำดับ"
      ]
    },
    {
      "cell_type": "code",
      "metadata": {
        "id": "dRdY4o_TkSCK"
      },
      "source": [
        "data[['math score', 'test_completed', 'test_none']].corr()"
      ],
      "execution_count": null,
      "outputs": []
    },
    {
      "cell_type": "markdown",
      "metadata": {
        "id": "m_eK6b__xS5f"
      },
      "source": [
        "## การเรียน test preparation course ส่งผลต่อผลคะแนนวิชาการอ่านไหม?\n",
        "\n",
        "* จากกราฟด้านล่าง test_completed และ test_none ไม่แตกต่างกัน\n",
        "* เมื่อดูจากค่า correlation พบว่า test_completed และ test_none มีค่าเท่ากับ 0.243333 อยู่ในช่วง 0 <= r < 0.3\n",
        "* ดังนั้น test preparation course มีความสัมพันธ์กับ reading score ในระดับต่ำมาก (แทบจะไม่มีความสัมพันธ์กัน)\n",
        "* จึงสรุปได้ว่า การเรียน test preparation course ไม่ส่งผลต่อผลคะแนนวิชาเขียน"
      ]
    },
    {
      "cell_type": "markdown",
      "metadata": {
        "id": "pUtdVJETgHZs"
      },
      "source": [
        "![reading_score.png](data:image/png;base64,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)"
      ]
    },
    {
      "cell_type": "markdown",
      "metadata": {
        "id": "bDnwuwYrCufJ"
      },
      "source": [
        "Feature ที่ส่งผลต่อ Reading Score มากที่สุด คือ gender, test prepareation course, และ lunch ตามลำดับ"
      ]
    },
    {
      "cell_type": "code",
      "metadata": {
        "id": "aREm2uRTlviO"
      },
      "source": [
        "data[['reading score', 'test_completed', 'test_none']].corr()"
      ],
      "execution_count": null,
      "outputs": []
    },
    {
      "cell_type": "markdown",
      "metadata": {
        "id": "wEiraRzAxU1F"
      },
      "source": [
        "## การเรียน test preparation course ส่งผลต่อผลคะแนนวิชาการเขียนไหม?\n",
        "\n",
        "* จากกราฟด้านล่าง test_completed และ test_none ไม่แตกต่างกัน\n",
        "* เมื่อดูจากค่า correlation พบว่า test_completed และ test_none มีค่าเท่ากับ 0.313639 อยู่ในช่วง 0.3 <= r < 0.5\n",
        "* ดังนั้น test preparation course มีความสัมพันธ์กับ writing score ในระดับต่ำ\n",
        "* จึงสรุปได้ว่า การเรียน test preparation course ส่งผลต่อผลคะแนนวิชาเขียนน้อยมากๆ จนแทบจะไม่ส่งผล"
      ]
    },
    {
      "cell_type": "markdown",
      "metadata": {
        "id": "ZwnPcDYpgMle"
      },
      "source": [
        "![writing_score.png](data:image/png;base64,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)"
      ]
    },
    {
      "cell_type": "markdown",
      "metadata": {
        "id": "_MSjMpD4C4Py"
      },
      "source": [
        "Feature ที่ส่งผลต่อ Writing Score มากที่สุด คือ test preparetion, และ gender ตามลำดับ"
      ]
    },
    {
      "cell_type": "code",
      "metadata": {
        "id": "7amWilX_lzTl"
      },
      "source": [
        "data[['writing score', 'test_completed', 'test_none']].corr()"
      ],
      "execution_count": null,
      "outputs": []
    },
    {
      "cell_type": "markdown",
      "metadata": {
        "id": "dDeKK5pIxX2H"
      },
      "source": [
        "## ปัจจัย 3 ลำดับแรกที่ส่งผลต่อคะแนนเฉลี่ยของนักเรียน?\n",
        "\n",
        "> * อันดับ 1. lunch\n",
        "* อันดับ 2. test preparation course\n",
        "* อันดับ 3. parental level of education"
      ]
    },
    {
      "cell_type": "markdown",
      "metadata": {
        "id": "swv7tzJYga9O"
      },
      "source": [
        "![avg_score](data:image/png;base64,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)"
      ]
    }
  ]
}